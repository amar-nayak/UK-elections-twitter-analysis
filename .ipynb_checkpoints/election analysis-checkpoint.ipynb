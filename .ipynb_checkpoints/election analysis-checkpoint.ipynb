{
 "cells": [
  {
   "cell_type": "code",
   "execution_count": 15,
   "metadata": {
    "collapsed": false
   },
   "outputs": [],
   "source": [
    "import json\n",
    "import pandas as pd\n",
    "import matplotlib.pyplot as plt\n",
    "import os\n",
    "os.chdir(\"C:/specdata/twitter\")"
   ]
  },
  {
   "cell_type": "code",
   "execution_count": 16,
   "metadata": {
    "collapsed": false
   },
   "outputs": [],
   "source": [
    "tweet_path= \"C:/specdata/twitter.txt\"\n",
    "tweets_data=[]\n",
    "tweets_file= open(tweet_path, \"r\")"
   ]
  },
  {
   "cell_type": "code",
   "execution_count": 17,
   "metadata": {
    "collapsed": false
   },
   "outputs": [],
   "source": [
    "for line in tweets_file:\n",
    "    try:\n",
    "        tweet= json.loads(line)\n",
    "        tweets_data.append(tweet)\n",
    "    except:\n",
    "        continue \n",
    "    "
   ]
  },
  {
   "cell_type": "code",
   "execution_count": 18,
   "metadata": {
    "collapsed": true
   },
   "outputs": [],
   "source": [
    "tweetdf= pd.DataFrame()"
   ]
  },
  {
   "cell_type": "code",
   "execution_count": 19,
   "metadata": {
    "collapsed": true
   },
   "outputs": [],
   "source": [
    "tweetdf['text']= list(map(lambda tweet:tweet['text'],tweets_data))\n",
    "tweetdf['language']= list(map(lambda tweet:tweet['lang'],tweets_data))\n",
    "tweetdf['place']= list(map(lambda tweet:tweet['place'],tweets_data))\n",
    "tweetdf['created_at']= list(map(lambda tweet:tweet['created_at'],tweets_data))\n",
    "tweetdf['favorite_count']= list(map(lambda tweet:tweet['favorite_count'],tweets_data))\n",
    "tweetdf['geo']= list(map(lambda tweet:tweet['geo'],tweets_data))\n",
    "tweetdf['retweet_count']= list(map(lambda tweet:tweet['retweet_count'],tweets_data))\n",
    "tweetdf['coordinates']= list(map(lambda tweet:tweet['coordinates'],tweets_data))\n",
    "tweetdf['user'] = list(map(lambda tweet:tweet['user'],tweets_data))"
   ]
  },
  {
   "cell_type": "code",
   "execution_count": 20,
   "metadata": {
    "collapsed": false
   },
   "outputs": [
    {
     "data": {
      "text/plain": [
       "353"
      ]
     },
     "execution_count": 20,
     "metadata": {},
     "output_type": "execute_result"
    }
   ],
   "source": [
    "len(tweets_data)"
   ]
  },
  {
   "cell_type": "code",
   "execution_count": 21,
   "metadata": {
    "collapsed": false
   },
   "outputs": [
    {
     "data": {
      "text/html": [
       "<div>\n",
       "<table border=\"1\" class=\"dataframe\">\n",
       "  <thead>\n",
       "    <tr style=\"text-align: right;\">\n",
       "      <th></th>\n",
       "      <th>text</th>\n",
       "      <th>language</th>\n",
       "      <th>place</th>\n",
       "      <th>created_at</th>\n",
       "      <th>favorite_count</th>\n",
       "      <th>geo</th>\n",
       "      <th>retweet_count</th>\n",
       "      <th>coordinates</th>\n",
       "      <th>user</th>\n",
       "    </tr>\n",
       "  </thead>\n",
       "  <tbody>\n",
       "    <tr>\n",
       "      <th>0</th>\n",
       "      <td>RT @DanielJLayton: And if you've questions abo...</td>\n",
       "      <td>en</td>\n",
       "      <td>None</td>\n",
       "      <td>Wed Apr 19 19:40:53 +0000 2017</td>\n",
       "      <td>0</td>\n",
       "      <td>None</td>\n",
       "      <td>0</td>\n",
       "      <td>None</td>\n",
       "      <td>{u'follow_request_sent': None, u'profile_use_b...</td>\n",
       "    </tr>\n",
       "    <tr>\n",
       "      <th>1</th>\n",
       "      <td>RT @Marc_Perrone: #Breaking\\n\\nUtah GOP Congre...</td>\n",
       "      <td>en</td>\n",
       "      <td>None</td>\n",
       "      <td>Wed Apr 19 19:40:53 +0000 2017</td>\n",
       "      <td>0</td>\n",
       "      <td>None</td>\n",
       "      <td>0</td>\n",
       "      <td>None</td>\n",
       "      <td>{u'follow_request_sent': None, u'profile_use_b...</td>\n",
       "    </tr>\n",
       "    <tr>\n",
       "      <th>2</th>\n",
       "      <td>RT @LiveInUKLoveEU: He's a good and decent MP,...</td>\n",
       "      <td>en</td>\n",
       "      <td>None</td>\n",
       "      <td>Wed Apr 19 19:40:53 +0000 2017</td>\n",
       "      <td>0</td>\n",
       "      <td>None</td>\n",
       "      <td>0</td>\n",
       "      <td>None</td>\n",
       "      <td>{u'follow_request_sent': None, u'profile_use_b...</td>\n",
       "    </tr>\n",
       "    <tr>\n",
       "      <th>3</th>\n",
       "      <td>RT @RogueCoder250: Interviewer: \"Prime Ministe...</td>\n",
       "      <td>en</td>\n",
       "      <td>None</td>\n",
       "      <td>Wed Apr 19 19:40:53 +0000 2017</td>\n",
       "      <td>0</td>\n",
       "      <td>None</td>\n",
       "      <td>0</td>\n",
       "      <td>None</td>\n",
       "      <td>{u'follow_request_sent': None, u'profile_use_b...</td>\n",
       "    </tr>\n",
       "    <tr>\n",
       "      <th>4</th>\n",
       "      <td>RT @DavidJo52951945: If the SNP repeat their 2...</td>\n",
       "      <td>en</td>\n",
       "      <td>None</td>\n",
       "      <td>Wed Apr 19 19:40:53 +0000 2017</td>\n",
       "      <td>0</td>\n",
       "      <td>None</td>\n",
       "      <td>0</td>\n",
       "      <td>None</td>\n",
       "      <td>{u'follow_request_sent': None, u'profile_use_b...</td>\n",
       "    </tr>\n",
       "  </tbody>\n",
       "</table>\n",
       "</div>"
      ],
      "text/plain": [
       "                                                text language place  \\\n",
       "0  RT @DanielJLayton: And if you've questions abo...       en  None   \n",
       "1  RT @Marc_Perrone: #Breaking\\n\\nUtah GOP Congre...       en  None   \n",
       "2  RT @LiveInUKLoveEU: He's a good and decent MP,...       en  None   \n",
       "3  RT @RogueCoder250: Interviewer: \"Prime Ministe...       en  None   \n",
       "4  RT @DavidJo52951945: If the SNP repeat their 2...       en  None   \n",
       "\n",
       "                       created_at  favorite_count   geo  retweet_count  \\\n",
       "0  Wed Apr 19 19:40:53 +0000 2017               0  None              0   \n",
       "1  Wed Apr 19 19:40:53 +0000 2017               0  None              0   \n",
       "2  Wed Apr 19 19:40:53 +0000 2017               0  None              0   \n",
       "3  Wed Apr 19 19:40:53 +0000 2017               0  None              0   \n",
       "4  Wed Apr 19 19:40:53 +0000 2017               0  None              0   \n",
       "\n",
       "  coordinates                                               user  \n",
       "0        None  {u'follow_request_sent': None, u'profile_use_b...  \n",
       "1        None  {u'follow_request_sent': None, u'profile_use_b...  \n",
       "2        None  {u'follow_request_sent': None, u'profile_use_b...  \n",
       "3        None  {u'follow_request_sent': None, u'profile_use_b...  \n",
       "4        None  {u'follow_request_sent': None, u'profile_use_b...  "
      ]
     },
     "execution_count": 21,
     "metadata": {},
     "output_type": "execute_result"
    }
   ],
   "source": [
    "tweetdf.head()"
   ]
  },
  {
   "cell_type": "code",
   "execution_count": 22,
   "metadata": {
    "collapsed": false
   },
   "outputs": [],
   "source": [
    "tw = tweetdf['user'][0]"
   ]
  },
  {
   "cell_type": "code",
   "execution_count": 23,
   "metadata": {
    "collapsed": false
   },
   "outputs": [],
   "source": [
    "name = [d.get('name') for d in tweetdf.user]\n",
    "tweetdf['name'] = name\n",
    "desc = [dp.get('description') for dp in tweetdf.user]\n",
    "tweetdf['status_description'] = desc\n",
    "fav = [fv.get('favourites_count') for fv in tweetdf.user]\n",
    "tweetdf['favourites_count'] = fav\n",
    "f_c = [fc.get('followers_count') for fc in tweetdf.user]\n",
    "tweetdf['followers_count'] = f_c\n",
    "fol = [fl.get('following') for fl in tweetdf.user]\n",
    "tweetdf['following'] = fol\n",
    "fri = [cou.get('friends_count') for cou in tweetdf.user]\n",
    "tweetdf['friends_count'] = fri"
   ]
  },
  {
   "cell_type": "code",
   "execution_count": 24,
   "metadata": {
    "collapsed": false
   },
   "outputs": [
    {
     "data": {
      "text/html": [
       "<div>\n",
       "<table border=\"1\" class=\"dataframe\">\n",
       "  <thead>\n",
       "    <tr style=\"text-align: right;\">\n",
       "      <th></th>\n",
       "      <th>text</th>\n",
       "      <th>language</th>\n",
       "      <th>place</th>\n",
       "      <th>created_at</th>\n",
       "      <th>favorite_count</th>\n",
       "      <th>geo</th>\n",
       "      <th>retweet_count</th>\n",
       "      <th>coordinates</th>\n",
       "      <th>user</th>\n",
       "      <th>name</th>\n",
       "      <th>status_description</th>\n",
       "      <th>favourites_count</th>\n",
       "      <th>followers_count</th>\n",
       "      <th>following</th>\n",
       "      <th>friends_count</th>\n",
       "    </tr>\n",
       "  </thead>\n",
       "  <tbody>\n",
       "    <tr>\n",
       "      <th>0</th>\n",
       "      <td>RT @DanielJLayton: And if you've questions abo...</td>\n",
       "      <td>en</td>\n",
       "      <td>None</td>\n",
       "      <td>Wed Apr 19 19:40:53 +0000 2017</td>\n",
       "      <td>0</td>\n",
       "      <td>None</td>\n",
       "      <td>0</td>\n",
       "      <td>None</td>\n",
       "      <td>{u'follow_request_sent': None, u'profile_use_b...</td>\n",
       "      <td>maisy;</td>\n",
       "      <td>16; fuck it, wolfgang</td>\n",
       "      <td>24499</td>\n",
       "      <td>1745</td>\n",
       "      <td>None</td>\n",
       "      <td>658</td>\n",
       "    </tr>\n",
       "    <tr>\n",
       "      <th>1</th>\n",
       "      <td>RT @Marc_Perrone: #Breaking\\n\\nUtah GOP Congre...</td>\n",
       "      <td>en</td>\n",
       "      <td>None</td>\n",
       "      <td>Wed Apr 19 19:40:53 +0000 2017</td>\n",
       "      <td>0</td>\n",
       "      <td>None</td>\n",
       "      <td>0</td>\n",
       "      <td>None</td>\n",
       "      <td>{u'follow_request_sent': None, u'profile_use_b...</td>\n",
       "      <td>nancy n vandyke</td>\n",
       "      <td>mom democrat. married and a Hillary supporter,...</td>\n",
       "      <td>7476</td>\n",
       "      <td>1872</td>\n",
       "      <td>None</td>\n",
       "      <td>3430</td>\n",
       "    </tr>\n",
       "    <tr>\n",
       "      <th>2</th>\n",
       "      <td>RT @LiveInUKLoveEU: He's a good and decent MP,...</td>\n",
       "      <td>en</td>\n",
       "      <td>None</td>\n",
       "      <td>Wed Apr 19 19:40:53 +0000 2017</td>\n",
       "      <td>0</td>\n",
       "      <td>None</td>\n",
       "      <td>0</td>\n",
       "      <td>None</td>\n",
       "      <td>{u'follow_request_sent': None, u'profile_use_b...</td>\n",
       "      <td>carol worthington</td>\n",
       "      <td>Once a happy European. Now trapped in a dystop...</td>\n",
       "      <td>5249</td>\n",
       "      <td>633</td>\n",
       "      <td>None</td>\n",
       "      <td>301</td>\n",
       "    </tr>\n",
       "  </tbody>\n",
       "</table>\n",
       "</div>"
      ],
      "text/plain": [
       "                                                text language place  \\\n",
       "0  RT @DanielJLayton: And if you've questions abo...       en  None   \n",
       "1  RT @Marc_Perrone: #Breaking\\n\\nUtah GOP Congre...       en  None   \n",
       "2  RT @LiveInUKLoveEU: He's a good and decent MP,...       en  None   \n",
       "\n",
       "                       created_at  favorite_count   geo  retweet_count  \\\n",
       "0  Wed Apr 19 19:40:53 +0000 2017               0  None              0   \n",
       "1  Wed Apr 19 19:40:53 +0000 2017               0  None              0   \n",
       "2  Wed Apr 19 19:40:53 +0000 2017               0  None              0   \n",
       "\n",
       "  coordinates                                               user  \\\n",
       "0        None  {u'follow_request_sent': None, u'profile_use_b...   \n",
       "1        None  {u'follow_request_sent': None, u'profile_use_b...   \n",
       "2        None  {u'follow_request_sent': None, u'profile_use_b...   \n",
       "\n",
       "                name                                 status_description  \\\n",
       "0             maisy;                              16; fuck it, wolfgang   \n",
       "1    nancy n vandyke  mom democrat. married and a Hillary supporter,...   \n",
       "2  carol worthington  Once a happy European. Now trapped in a dystop...   \n",
       "\n",
       "   favourites_count  followers_count following  friends_count  \n",
       "0             24499             1745      None            658  \n",
       "1              7476             1872      None           3430  \n",
       "2              5249              633      None            301  "
      ]
     },
     "execution_count": 24,
     "metadata": {},
     "output_type": "execute_result"
    }
   ],
   "source": [
    "tweetdf.head(3)"
   ]
  },
  {
   "cell_type": "code",
   "execution_count": 25,
   "metadata": {
    "collapsed": false,
    "scrolled": true
   },
   "outputs": [],
   "source": [
    "import nltk\n",
    "from nltk import *\n",
    "from nltk.tokenize import word_tokenize"
   ]
  },
  {
   "cell_type": "code",
   "execution_count": 26,
   "metadata": {
    "collapsed": false
   },
   "outputs": [],
   "source": [
    "text_tweet = tweetdf['text']"
   ]
  },
  {
   "cell_type": "code",
   "execution_count": 27,
   "metadata": {
    "collapsed": false
   },
   "outputs": [
    {
     "name": "stdout",
     "output_type": "stream",
     "text": [
      "6\n"
     ]
    }
   ],
   "source": [
    "# count a particular word in the tweet\n",
    "\n",
    "counter=0\n",
    "for i in range(len(text_tweet)):\n",
    "    tok = nltk.word_tokenize(text_tweet[i])   \n",
    "    for word in range(len(tok)):\n",
    "        if tok[word]== \"EU\":\n",
    "            counter=counter+1\n",
    "print(counter)\n"
   ]
  },
  {
   "cell_type": "code",
   "execution_count": 28,
   "metadata": {
    "collapsed": false
   },
   "outputs": [
    {
     "ename": "IOError",
     "evalue": "[Errno 2] No such file or directory: 'may.txt'",
     "output_type": "error",
     "traceback": [
      "\u001b[1;31m---------------------------------------------------------------------------\u001b[0m",
      "\u001b[1;31mIOError\u001b[0m                                   Traceback (most recent call last)",
      "\u001b[1;32m<ipython-input-28-c5ee8c945ee2>\u001b[0m in \u001b[0;36m<module>\u001b[1;34m()\u001b[0m\n\u001b[0;32m      1\u001b[0m \u001b[1;32mfrom\u001b[0m \u001b[0mnltk\u001b[0m\u001b[1;33m.\u001b[0m\u001b[0mtokenize\u001b[0m \u001b[1;32mimport\u001b[0m \u001b[0mword_tokenize\u001b[0m\u001b[1;33m\u001b[0m\u001b[0m\n\u001b[1;32m----> 2\u001b[1;33m \u001b[0mraw\u001b[0m \u001b[1;33m=\u001b[0m \u001b[0mopen\u001b[0m\u001b[1;33m(\u001b[0m\u001b[1;34m'may.txt'\u001b[0m\u001b[1;33m)\u001b[0m\u001b[1;33m.\u001b[0m\u001b[0mread\u001b[0m\u001b[1;33m(\u001b[0m\u001b[1;33m)\u001b[0m\u001b[1;33m\u001b[0m\u001b[0m\n\u001b[0m\u001b[0;32m      3\u001b[0m \u001b[0mtkn\u001b[0m \u001b[1;33m=\u001b[0m \u001b[0mnltk\u001b[0m\u001b[1;33m.\u001b[0m\u001b[0mword_tokenize\u001b[0m\u001b[1;33m(\u001b[0m\u001b[0mraw\u001b[0m\u001b[1;33m)\u001b[0m\u001b[1;33m\u001b[0m\u001b[0m\n\u001b[0;32m      4\u001b[0m \u001b[0mtext\u001b[0m \u001b[1;33m=\u001b[0m \u001b[0mnltk\u001b[0m\u001b[1;33m.\u001b[0m\u001b[0mText\u001b[0m\u001b[1;33m(\u001b[0m\u001b[0mtkn\u001b[0m\u001b[1;33m)\u001b[0m\u001b[1;33m\u001b[0m\u001b[0m\n",
      "\u001b[1;31mIOError\u001b[0m: [Errno 2] No such file or directory: 'may.txt'"
     ]
    }
   ],
   "source": [
    "from nltk.tokenize import word_tokenize\n",
    "raw = open('may.txt').read()\n",
    "tkn = nltk.word_tokenize(raw)\n",
    "text = nltk.Text(tkn)"
   ]
  },
  {
   "cell_type": "code",
   "execution_count": null,
   "metadata": {
    "collapsed": false
   },
   "outputs": [],
   "source": [
    "# Concordance words\n",
    "\n",
    "text.concordance('election')        "
   ]
  },
  {
   "cell_type": "code",
   "execution_count": null,
   "metadata": {
    "collapsed": false
   },
   "outputs": [],
   "source": [
    "text.similar('country')"
   ]
  },
  {
   "cell_type": "code",
   "execution_count": null,
   "metadata": {
    "collapsed": false
   },
   "outputs": [],
   "source": [
    "# when does the word appear in the text. Each row represnt the length of the text\n",
    "text.dispersion_plot([\"I\",\"will\",\"have\",\"we\",\"election\",\"government\",\"vote\",\"country\", \"Brexit\", \"eu\"])"
   ]
  },
  {
   "cell_type": "code",
   "execution_count": null,
   "metadata": {
    "collapsed": false
   },
   "outputs": [],
   "source": [
    "text.count(\"country\")"
   ]
  },
  {
   "cell_type": "code",
   "execution_count": null,
   "metadata": {
    "collapsed": false
   },
   "outputs": [],
   "source": [
    "fdist1 = FreqDist(text)\n",
    "print(fdist1)"
   ]
  },
  {
   "cell_type": "code",
   "execution_count": null,
   "metadata": {
    "collapsed": false
   },
   "outputs": [],
   "source": [
    "frequent = fdist1.most_common(40)\n",
    "fdist1.plot(25, cumulative=False)"
   ]
  },
  {
   "cell_type": "code",
   "execution_count": null,
   "metadata": {
    "collapsed": false
   },
   "outputs": [],
   "source": []
  },
  {
   "cell_type": "code",
   "execution_count": null,
   "metadata": {
    "collapsed": false
   },
   "outputs": [],
   "source": [
    "# Words that occur only once\n",
    "fdist1.hapaxes()"
   ]
  },
  {
   "cell_type": "code",
   "execution_count": null,
   "metadata": {
    "collapsed": false
   },
   "outputs": [],
   "source": [
    "senti= pd.read_csv(\"SentiWordNet.txt\", sep= '\\t')"
   ]
  },
  {
   "cell_type": "code",
   "execution_count": null,
   "metadata": {
    "collapsed": false
   },
   "outputs": [],
   "source": [
    "senti"
   ]
  },
  {
   "cell_type": "code",
   "execution_count": null,
   "metadata": {
    "collapsed": false
   },
   "outputs": [],
   "source": [
    "# Slice data frame into 3 parts each for positive, negative and neutral\n",
    "\n",
    "trainpt= senti[(senti.PosScore>0)] \n",
    "trainnt= senti[(senti.NegScore>0)]\n",
    "trainnu= senti[(senti.NegScore==0) & (senti.PosScore==0)]"
   ]
  },
  {
   "cell_type": "code",
   "execution_count": null,
   "metadata": {
    "collapsed": false
   },
   "outputs": [],
   "source": [
    "# Slice columns for each dataframe\n",
    "\n",
    "trainn= trainnt[[\"NegScore\", \"Gloss\"]]\n",
    "trainp= trainpt[[\"PosScore\", \"Gloss\"]]\n",
    "traint= trainnu[[\"PosScore\", \"Gloss\"]]"
   ]
  },
  {
   "cell_type": "code",
   "execution_count": null,
   "metadata": {
    "collapsed": false
   },
   "outputs": [],
   "source": [
    "# Rename column names \n",
    "\n",
    "trainn= trainn.rename(columns={'NegScore': 'score'})\n",
    "trainp= trainp.rename(columns={'PosScore': 'score'})\n",
    "traint= traint.rename(columns={'PosScore': 'score'})\n",
    "#trainn['score']= 0"
   ]
  },
  {
   "cell_type": "code",
   "execution_count": null,
   "metadata": {
    "collapsed": false
   },
   "outputs": [],
   "source": [
    "# Encode the scores as 0 for negative, 1 for neutral and 2 for positive\n",
    "\n",
    "trainn['score']= 0\n",
    "trainp['score']= 2\n",
    "traint['score']= 1"
   ]
  },
  {
   "cell_type": "code",
   "execution_count": null,
   "metadata": {
    "collapsed": true
   },
   "outputs": [],
   "source": [
    "# Merge the three dataframe \n",
    "\n",
    "frames= [trainn,trainp, traint ]\n",
    "train= pd.concat(frames).reset_index()"
   ]
  },
  {
   "cell_type": "code",
   "execution_count": null,
   "metadata": {
    "collapsed": false
   },
   "outputs": [],
   "source": [
    "#Dataframe check\n",
    "\n",
    "train['score'].value_counts()"
   ]
  },
  {
   "cell_type": "code",
   "execution_count": null,
   "metadata": {
    "collapsed": false
   },
   "outputs": [],
   "source": [
    "train.head()"
   ]
  },
  {
   "cell_type": "code",
   "execution_count": null,
   "metadata": {
    "collapsed": false
   },
   "outputs": [],
   "source": [
    "train= train[[\"score\", \"Gloss\"]]"
   ]
  },
  {
   "cell_type": "code",
   "execution_count": null,
   "metadata": {
    "collapsed": false
   },
   "outputs": [],
   "source": [
    "train.head()"
   ]
  },
  {
   "cell_type": "code",
   "execution_count": null,
   "metadata": {
    "collapsed": false
   },
   "outputs": [],
   "source": [
    "from nltk.corpus import stopwords\n",
    "from sklearn.feature_extraction.text import TfidfVectorizer\n",
    "from sklearn.model_selection import cross_val_score\n",
    "from sklearn import naive_bayes\n",
    "from sklearn.metrics import roc_auc_score"
   ]
  },
  {
   "cell_type": "code",
   "execution_count": null,
   "metadata": {
    "collapsed": false
   },
   "outputs": [],
   "source": [
    "#Vectorize the training tweets \n",
    "\n",
    "stopset = set(stopwords.words('english'))\n",
    "vector = TfidfVectorizer(use_idf=True, lowercase=True, strip_accents= 'ascii', stop_words = stopset)"
   ]
  },
  {
   "cell_type": "code",
   "execution_count": null,
   "metadata": {
    "collapsed": true
   },
   "outputs": [],
   "source": [
    "y= train['score']"
   ]
  },
  {
   "cell_type": "code",
   "execution_count": null,
   "metadata": {
    "collapsed": true
   },
   "outputs": [],
   "source": [
    "x= vector.fit_transform(train.Gloss)"
   ]
  },
  {
   "cell_type": "code",
   "execution_count": null,
   "metadata": {
    "collapsed": false
   },
   "outputs": [],
   "source": [
    "print(x.shape)\n",
    "print(y.shape)"
   ]
  },
  {
   "cell_type": "code",
   "execution_count": null,
   "metadata": {
    "collapsed": false
   },
   "outputs": [],
   "source": [
    "#Traine NB algorithm\n",
    "\n",
    "clf =naive_bayes.MultinomialNB()\n",
    "clf.fit(x,y)\n",
    "scores = cross_val_score(clf, x, y, cv=10)\n",
    "print(scores)\n",
    "print(scores.mean())"
   ]
  },
  {
   "cell_type": "code",
   "execution_count": null,
   "metadata": {
    "collapsed": true
   },
   "outputs": [],
   "source": [
    "pred_tweet = vector.transform(tweetdf['text'])"
   ]
  },
  {
   "cell_type": "code",
   "execution_count": null,
   "metadata": {
    "collapsed": false
   },
   "outputs": [],
   "source": [
    "pred_sent= clf.predict(pred_tweet)"
   ]
  },
  {
   "cell_type": "code",
   "execution_count": null,
   "metadata": {
    "collapsed": true
   },
   "outputs": [],
   "source": [
    "tweetdf['sentiment']= pred_sent"
   ]
  },
  {
   "cell_type": "code",
   "execution_count": null,
   "metadata": {
    "collapsed": false
   },
   "outputs": [],
   "source": [
    "tweetdf.head()"
   ]
  },
  {
   "cell_type": "markdown",
   "metadata": {},
   "source": [
    "document=[]\n",
    "for txt in range(len(tweetdf)):\n",
    "    toke = word_tokenize(tweetdf['text'][txt])\n",
    "    document.append(toke)"
   ]
  },
  {
   "cell_type": "markdown",
   "metadata": {},
   "source": [
    "# Remove punctuations\n",
    "\n",
    "from nltk.tokenize import RegexpTokenizer\n",
    "import string\n",
    "punctuations = list(string.punctuation)\n",
    "punctuations.append(\",\")\n",
    "document1=[]\n",
    "for rows in range(len(document)):\n",
    "    item = document[rows]\n",
    "    [i for i in word_tokenize(item) if i not in punctuations]\n",
    "    document1.append(item)\n",
    "\n",
    "    \n",
    "    \n"
   ]
  },
  {
   "cell_type": "code",
   "execution_count": 81,
   "metadata": {
    "collapsed": false
   },
   "outputs": [],
   "source": [
    "def trans(s):\n",
    "    \n",
    "#Remove punctuation\n",
    "\n",
    "    exclude = list(string.punctuation)\n",
    "    exclude.append(\":\")\n",
    "    return ''.join(ch for ch in s if ch not in exclude)"
   ]
  },
  {
   "cell_type": "code",
   "execution_count": 189,
   "metadata": {
    "collapsed": false
   },
   "outputs": [],
   "source": [
    "from nltk.tokenize import TweetTokenizer\n",
    "import string\n",
    "tweet_string = \",\"\n",
    "tknzr = TweetTokenizer(strip_handles=True, reduce_len=True)\n",
    "\n",
    "for rows in range(len(tweetdf)):\n",
    "    tweet_string = tweet_string + \",\".join(tknzr.tokenize(tweetdf.text[rows].encode('ascii', 'ignore')))\n",
    "\n",
    "tweet_string = tweet_string + \",,\""
   ]
  },
  {
   "cell_type": "code",
   "execution_count": 190,
   "metadata": {
    "collapsed": false
   },
   "outputs": [
    {
     "data": {
      "text/plain": [
       "u'And,if,you\\'ve,questions,about,how,this,all,goes,downthat\\'sBecause,thehas,you,coveredBeebhttpsUtahCongressman,Jason,Chaffetz,who,chairs,the,House,Oversight,Committee,won\\'t,seek,re-electionHe\\'s,a,good,and,decentbut,unfortunately,represents,a,party,that,supports,Brexit,So,voters,in,Holborn,and,StInterviewer\",Prime,Ministerwhat,first,attracted,you,to,the,idea,of,an,early,General,Election\",therepeat,their,2015,election,success,&,win,a,big,majority,of,Scottish,seatse,g,50should,they,get,a,2ndAn,irate,Dennis,Skinner,calls,on,Theresa,May,to,bar,Tory,MPs,involved,in,the,election,expenses,investigation,from,sYou,do,know,thataccording,to,the,Election,Offences,Actit,is,illegal,for,Godepartments,to,campaign,for,a,politDennis,Skinner,-,raised-,\",most,squalid,election,campaign,in,his,lifetime,\"stands,by,allFrench,Police,Foil,ImminentAttack,Planned,For,Upcoming,Election#this,isn\\'t,another,election,decided,upon,by,old,menyoungsters,entitled,to,vote,must,ensure,they\\'re,registered,httLet,me,sum,up,the,election,for,everyone,It\\'s,a,bit,like,the,referendum,We,will,all,vote,for,whom,we,wantthen,life,will,go,onGov,to,rush,through,Green,Investment,Bank,sell,off,b4,electionannouncement,expected,soon,Reckless,decisionundermineThisThepays,an,obscene,amount,in,foreign,aidit,must,stop,at,this,election,&,the,money,spent,in,Britaincan\\'t,decide,if,I\\'m,more,excited,about,Bill,O\\'Reilly,being,fired,or,Jason,Chaffetz,not,running,for,re-election,.Theresa,May,says,no,to,general,electiondebatesCould,we,all,collectively,pretend,the,election,isn\\'t,happeningLike,we,didn\\'t,hear,Maydo,this,all,the,time,\",Sorrycan\\'t,decide,if,I\\'m,more,excited,about,Bill,O\\'Reilly,being,fired,or,Jason,Chaffetz,not,running,for,re-election,.Is,still,being,investigated,for,election,fraudknew,she,would,lose,Theresa,May,immediately,blames,opposition,from,the,Lib,Dems,again,as,she,explains,her,election,U-turn,Is,this,the,12th,Russian,to,mysteriousor,not-so,mysteriouslydie,since,our,electionDennis,Skinner,asks,if,Conservative,MPs,under,investigation,for,electoral,spending,will,be,barred,from,standing,inThrowing,whatcan25to,in,the,atand,rise,upLammysays,the,election,will,be,fought,on,bread,&,butter,issues,-,schoolcuts,agree,Agree,lifelong,Labour,votershall,vote,for,the,Brexit,candidate,that,can,win,Torynever,thoughtwouldThiTheresa,May,agrees,toQuestion,Time-style,question,and,answer,televised,election,debatethe,\",numbers,\",don\\'t,stack,up,after,election,-,-,how,are,they,going,to,before,theYou,must,be,registered,to,vote,by,May,22,to,vote,in,the,General,ElectionTheresa,May\"mean,whatsay,andsay,whatmean,\",Theresa,May\",No,general,election,until,2020,\",\",Better,iAfter,Georgia,Special,ElectionJason,Chaffetz,Quits,The,House,AsBlue,Wave,Builds,For,2018At,the,last,General,Electionvoted,Green,This,time,I\\'ll,be,voting,Labour,That\\'s,them,one,vote,ahead,of,last,timehe,knows,defending,Trump,will,bite,him,in,the,ass,he,is,quiting,to,try,and,look,honorable,to,late,ass,clown,https,:Tomi,Lahren,firedBill,O\\'Reilly,firedJason,Chaffetz,not,seeking,re-electionand,Jesus,has,risen,God,is,really,showing,out,this,AprilGood,oncome,on,confirm,the,same,Theresa,May,criticised,for,snubbingelection,debatesentire,Labour,party,is,a,disgrace,All,running,scaredand,so,you,should,be,Once,Thompsona,Bernie-following,progressivebeat,the,conservative,establishment,Demthehad,no,interest,inabstain,on,election,They\\'d,prefer,to,keep,the,currentgovernment,than,have,a,go,at,defeating,it,Tells,you,everythProud,to,be,there,when,thelaunched,her,election,campaign,tonight,in,veterans,described,the,dossier,as,\",a,complete,fraud,\",This,is,real,evidence,of,collusion,and,foreign,intChaos,pleaseall,day,longthe,election,-will,have,more,flexibility,-,to,make,a,deal,with,Putin,Was,thatthe,smears,and,concentrate,on,the,Party\\'s,policies,ands,voting,record,That\\'s,what\\'s,important-Theresa,May,agrees,toQuestion,Time-style,question,and,answer,televised,election,debateCet,expertde,l\\'opinion,souponne,les,sondages,franais,de,\",herding,\"ils,se,copient,tous,pour,ne,prendre,aucunTreasury,busted,Donald,Trump,for,money,laundering,just,before,he,entered,the,2016,electionviaTory,Election,Fraud,is,about,to,go,nuclearand,it\\'s,probably,why,Theresa,May,U-turned,on,a,snaSome,Meme\\'s,write,themselves,me,get,financiallycan,yourHelp,mesave,me,I\\'m,ill,My,account,GE69TB7671445061100021,Leri,Dekanoidzecoming,from,as,is,expecting,to,put,in,a,very,good,showing,in,the,can,you,gotta,do,this,If,you,don\\'t,you,lose,your,voice,Your,voice,is,the,most,powerful,weapon,Be,heard,inIs,it,possible,to,vote,for,either,of,theseit,possible,to,vote,for,either,of,theseGran,Bretagna,andr,al,voto,anticipato,e,noi,abbiamo,visto,le,schede,in,anteprimaGran,Bretagna,andr,al,voto,anticipato,e,noi,abbiamo,visto,le,schede,in,anteprimacheck,this,out,If,you,can,you,gotta,do,this,If,you,don\\'t,you,lose,your,voice,Your,voice,is,the,most,powerful,weapon,Be,heard,inIst,diese,eigentlich,nur,ein,Weg,durch,Verzgerung,der,Verhandlungen,den,harten,zu,forcierenUhr,tickt,dochIfwas,I\\'d,change,my,name,to,Don\\'t,Know,#on,earth,would,you,want,to,avoid,politicspleasewe\\'re,Faberstrategy,and,games,as,calls,snap,ber,die,britischen,Titelseiten,zur,of,your,country,doesn\\'t,make,you,a,racist,Vote,Tory,so,we,can,get,this,cleaned,up,nowannounced,a,snap,election,Are,any,of,the,parties,fit,for,the,libertarian,votehope,for,summer,without,politics,but,that,not,what,they,got,now,distressingly,isnt,aone,size,fits,allAt,the,end,of,the,day,we,have,to,go,with,who,will,do,less,damage,to,what,means,the,most,to,us,so,the,malicious,political,insults,begin,on,social,media,I\\'m,off,to,live,in,a,cave,till,June,9th,Who\\'s,comingIs,it,possible,to,vote,for,either,of,thesecatch,line,would,have,beenMayexploited,a,golden,opportunity,to,attack,European,unity,with,he\\'s,thrilled,to,get,another,one,with,#yourselves,Vote,for,policiesnot,figureheads,clear,what,a,disaster,Corbyn,would,be,as,Prime,MinisterGreece,share,the,preference,of,voting,for,confidence,Other,similarities,to,followVery,interesting,Snap,election,could,offer,the,turning,point,in,Very,interesting,Snap,election,could,offer,the,turning,point,in,election,could,offer,the,turning,point,in,will,rule,westeros,May,Who,always,keeps,her,promisesPromised,not,to,call,an,ElectionShe\\'s,called,one,Pity,Tories,will,win,agin,Gran,Bretagna,andr,al,voto,anticipato,e,noi,abbiamo,visto,le,schede,in,anteprimaclear,what,a,disaster,Corbyn,would,be,as,Prime,Ministeris,important,to,bear,in,mind,Do,your,researchtrust,your,sources,&,read,as,widely,as,possible,clear,what,a,disaster,Corbyn,would,be,as,Prime,Minister10,votes,I\\'d,vote,Conservatives,Why,on,Earth,would,anyone,want,Corbyn,in,charge,of,a,movePeBritain,is,being,taken,for,stupidity,by,these,rapistuseless,and,none,pure,immigrants,movements,in,betting,markets,on,probability,of,Tory,victory,following,yesterday\\'s,announcement,to,stay,oneven,if,suffers,crushing,election,defeat,say,would,make,an,as,an,alternative,to,clear,what,a,disaster,Corbyn,would,be,as,Prime,MinisterBritain,please,vote,for,Jonathan,Crum,We,must,get,a,hard,Brexit,moan,about,the,government,&,then,want,another,change,of,leadership,Who,exactlyLabourLibsPiss,offCommentator,talks,about,impact,onmust,say,would,make,an,as,an,alternative,to,the,Conservatives,fail,to,win,this,die,of,shockOnly,an,idiot,would,think,they,will,loseIf,the,Conservatives,fail,to,win,this,die,of,shockOnly,an,idiot,would,think,they,will,loseJoin,Movement,for,Independence,of,All,Nation,States,across,Europe,\",Silent,Millions,-,Resist,GermanFederation,\"Is,it,possible,to,vote,for,either,of,theseMeme\\'s,write,themselves,the,Royal,Mint,let,slip,Gov,on,new,pound,coin,mapon,what,a,disaster,would,be,asScotlandis,very,thoughtful,of,you,to,give,your,flock,suchinstructions,They,will,need,guidance,every,step,of,theStormont,talks,to,go,into,deep-freeze,duringelectionopens,new,chapter,for,Is,it,cheapvia,https,:On,a,can,still,vote,in,the,Irrefutable,proof,that,will,cause,mass,starvation,if,electedwi,uick,look,at,some,of,theissues,with,the,Tory,and,Labour,party,websites,Guess,who,is,more,chaoticthe,are,just,as,dumb,aswillit,to,rest,of,usthe,normal,peopleare,in,the,same,boat,with,youthoughts,on,the,and,global,development,priorities,-,parties,must,commit,to,continue,progresays,June,result,\",not,certain,\",despite,front-runner,status,\",decision,is,as,strategically,flawed,as,it,is,tactically,clever,\",will,the,voter,turnout,likely,be,for,thesnap,election,on,June,8usual,suspects,Vote,Because,The,Government,Should,Help,All,of,Us,will,likely,win,most,from,the,Should,Vote,Because,The,Government,Should,Help,All,of,Us,presented,with,latest,polling,data,You,Should,Vote,Because,The,Government,Should,Help,All,of,Us,Should,Vote,Because,The,Government,Should,Help,All,of,Us,stop,the,Tory,landslideVote,tactically,in,your,constituency,nothingafter,being,told,of,paedos,in,his,boroughvSnap,election,could,offer,the,turning,point,in,piecea,triumph,for,May,in,will,only,deepen,the,divide,w,/,&,out,of,theand,be,like,Switzerland,my,vote,#How,do,we,get,the,best,MPs,for,Brexit,BritainVote,thoughtfully,Noel,WhelanThefaces,an,unhealthy,electionThoughtsannounced,a,snap,Our,analysis,uncovers,public,perception,and,who,is,the,most,trusted,good,news,for,spent,abroad,while,the,de-industrialisation,of,the,economy,is,completed,#approach,shows,is,outward,facinga,moral,power,and,a,global,leader,spent,abroad,while,the,de-industrialisation,of,the,economy,is,completed,#spent,abroad,while,the,de-industrialisation,of,the,economy,is,completed,##UKelection.Please,please,come,back,and,lead,us,to,a,successful,election,victory,Sir,Nigel,of,State,visit,toby,King,&,Queen,of,Spain,has,been,changed,because,of,It,will,now,take,place,on,112Billion,spent,abroad,while,the,de-industrialisation,of,the,economy,is,completed,#election,could,offer,the,turning,point,in,spent,abroad,while,the,de-industrialisation,of,the,economy,is,completed,##UKelection.best,for,Britainof,State,visit,toby,King,&,Queen,of,Spain,has,been,changed,because,of,It,will,now,take,place,on,1May,promises,Unicorns,for,all,So,do,we,have,any,bare,breasted,virgins,who,are,into,bestialityhttAmthe,only,1,who,wishes,that,was,next,n,line,4,#not,have,a,\",they\\'re,all,terriblelet\\'s,try,some,others,\",optionCould,be,the,solution,we,need,to,Skyright,after,the,remember,how,important,it,is,to,landslide,on,the,way,in,the10,things,we\\'ve,learned,from,the,election,campaign,this,weekWhy,not,have,a,\",they\\'re,all,terriblelet\\'s,try,some,others,\",optionCould,be,the,solution,we,need,out,spoiler,alertFollow,Brexit,Election,campaign,live,at,the,Guardianallpolitical,parties,should,have,their,station,on,their,web,site,byfor,parties,should,have,their,station,on,their,web,site,byfor,parties,should,have,their,station,on,their,web,site,byfor,parties,should,have,their,station,on,their,web,site,byfor,parties,should,have,their,station,on,their,web,site,byfor,please,come,back,and,lead,us,to,a,successful,election,victory,Sir,Nigel,say,would,make,an,as,an,alternative,to,say,would,make,an,as,an,alternative,to,corbyn,the,Brexit,negotiations,starting,soonBritain,should,be,less,divided,on,the,looked,lost,when,he,was,told,called,a,snap,in,june,He,was,like,\",who,is,Theresa,May,\",oh,mineBrexit,means,for,of,the,w,/,election,could,offer,the,turning,point,in,means,for,of,the,w,/,election,could,offer,the,turning,point,in,was,inevitable,when,Tories,had,to,contest,seats,due,to,903Citizens,appalled,and,Gabriella,Ratcliffe,still903Citizens,appalled,and,Gabriella,Ratcliffe,stillsays,June,election,result,not,certainsays,June,election,result,not,certainsays,June,election,result,not,certainsays,June,election,result,not,certain903Citizens,appalled,and,Gabriella,Ratcliffe,stillmust,say,would,make,an,as,an,alternative,to,it,possible,to,vote,for,either,of,these903Citizens,appalled,and,Gabriella,Ratcliffe,stillwill,smooth,pathSince,thePrime,Minister,has,announced,a,General,Election,will,be,held,in,June,Who,would,you,vote,forelection,could,offer,the,turning,point,in,will,smooth,pathMinister,Theresa,gets,General,Election,campaigning,underway,in,great,bunch,of,lads,be,going,viraldid,call,as,unpopular,with,Brits,as,doesn\\'t,work,for,the,majority,of,the,British,population,mentioned,in,recent,tweets,posted,on,#903Citizens,appalled,and,Gabriella,Ratcliffe,stillCorbyn,or,May,-,-,on,feeding,children,onin,last,1,hour,903Citizens,appalled,and,Gabriella,Ratcliffe,stillPython,generated,word,cloud,clusterdata,drawn,from,the,recent,Tweets,of,3,main,parties,currently,in,Over,902appalled,&,Gabriella,stilSieh,dir,den,Tweet,von,anwohlstand,in,liegt,am,exis,why,you,need,to,Unless,you,really,rejoice,in,the,most,vulnerable,being,abused,on,a,daily,basisnames,mentioned,in,recent,tweets,posted,on,#903Citizens,appalled,and,Gabriella,Ratcliffe,stillSee,why,these,assets,are,trending,in,1,watchlist,is,why,you,need,to,Unless,you,really,rejoice,in,the,most,vulnerable,being,abused,on,a,daily,basis:Track,trending,assets,in,1,watchlist,say,would,make,an,as,an,alternative,to,names,mentioned,in,recent,tweets,posted,on,#voters,fall,into,one,of,these,six,categories,httpSweet#on,course,for,landslide,victory,in,electionpoll,suggests,#54,MPs,as,general,election,candidates,mentioned,in,recent,tweets,posted,on,#are,seeing,a,jump,in,tweets,choicesfolksVanilla,ManI-Just-Don\\'t-Understand-Why-The-Kids-Don\\'t-Get-Me,Deputy,Headmaster,and,Sauron,Vinegar,Tits,.See,why,these,assets,are,trending,in,1,watchlist,#fintechBlockchain\"\"election,could,offer,the,turning,point,in,election,could,offer,the,turning,point,in,election,could,offer,the,turning,point,in,why,these,assets,are,trending,in,1,watchlist,onin,last,1,hour,or,May,-,-,on,feeding,children,onin,last,1,hour,to,push,the,most,feeblemarginal,&,insignificant,policies,while,the,country,burns,is,awe,inspiring,trending,assets,in,1,watchlist,#frenchelectionsBlockchain#UKelection#lower,last,week,from,our,weekend,update,Get,the,latest,chartsthe,move,higher,before,the,surprise,announcement,New,chart\\'t,say,weather,he\\'d,let,take,out,Total,coconspiratorthe,move,higher,before,the,surprise,announcement,New,chartwhy,these,assets,are,trending,in,1,watchlist,Jean-luc,Picard,Endorses,Jeremy,Corby,for,Prime,Ministersurely,Canadian,Jean-luc,Picard,Endorses,Jeremy,Corby,for,Prime,MinisterGain,from,movement,in,these,buzzing,assets,Remember,British,Citizens,trapped,abroad,-,-,-,and,oPython,generated,word,cloud,clusterdata,drawn,from,the,recent,Tweets,of,3,main,parties,currently,in,Remember,British,Citizens,trapped,abroad,-,-,-,and,ohope,that,voters,in,will,also,think,the,same,way&,vote,the,trending,onin,last,1,hour,assets,are,seeing,a,jump,in,tweets,make,official,complaint,over,leaked,document,telling,todiscriminateagainst,Green,Party,has,pulled,out,of,a,crucial,seat,to,help,Labour,beat,the,Tories,Nigel,Farage,sold,you,all,to,the,Russians,Please,fix,ittrending,assets,in,1,watchlist,Fit,and,Proper,to,OwnBroadcaster,Green,Party,has,pulled,out,of,a,crucial,seat,to,help,Labour,beat,the,Tories,onin,last,1,hour,Greens,Standand,not,Standin,theGeneral,Electiontrending,assets,in,1,watchlist,movement,in,these,buzzing,assets,On,Cable,On,Green,On,these,assets,are,trending,in,1,watchlist,election,could,offer,the,turning,point,in,hope,Brexit,was,a,lesson,to,youngvoters,We,need,a,betterpls,register,andhope,Brexit,was,a,lesson,to,youngvoters,We,need,a,betterpls,register,andif,this,isn\\'t,foreshadowingdon\\'t,know,what,is,Theresa,May,is,out,from,movement,in,these,buzzing,assets,#frenchelectionsBlockchain##poll#why,these,assets,are,trending,in,1,watchlist,election,could,offer,the,turning,point,in,election,could,offer,the,turning,point,in,is,important,to,bear,in,mind,Do,your,researchtrust,your,sources,&,read,as,widely,as,possible,hope,Brexit,was,a,lesson,to,youngvoters,We,need,a,betterpls,register,andassets,are,seeing,a,jump,in,tweets,hope,Brexit,was,a,lesson,to,youngvoters,We,need,a,betterpls,register,andin,thethese,assets,are,trending,in,1,watchlist,is,een,na,election,could,offer,the,turning,point,in,election,could,offer,the,turning,point,in,assets,are,seeing,a,jump,in,tweets,-,we,are,too,small,to,matter,smart,much,Question,then,becomes,whether,members,will,still,support,him,This,is,the,only,interesting,unknowntime,ever,that,I\\'m,hearing,people,ask,each,other,outright,what,they\\'re,votingdiscussing,why,and,listening,Corbyn,-,To,Place,the,Wealth,of,Corporations,Above,the,Wealth,of,People,is,Wrongwhy,these,assets,are,trending,in,1,watchlist,Tom,Daly,on,the,and,the,big,pictureSo,who\\'s,going,to,win,below,and,Tom,Daly,on,the,and,the,big,picturetrending,onin,last,1,hour,who\\'s,going,to,win,below,and,assets,are,seeing,a,jump,in,tweets,Should,Vote,for,the,Labour,Party\\'s,Jeremy,Corbyn#LabourParty#Paul,appears,to,compare,himself,to,to,expect,after,thegeneral,electionviaonin,last,1,hour,should,cover,home,affairs,such,as,#but,nobody,seems,to,put,plans,or,policy,launches,campaign,for,urged,to,step,up,fight,before,urged,to,step,up,fight,before,launches,campaign,for,Tom,Daly,on,the,and,the,big,picture,outlines,pro-business,soft,Brexit,policy,for,June,8,vote,-,World,Socialist,Web,Siteoutlines,pro-business,soft,Brexit,policy,for,June,8,vote,-,World,Socialist,Web,Site#UKElectionData-driven,forecast,of,the,upcoming,#UKelectionorecasting-the-election,/,with,Welsh,scenario,added,urged,to,step,up,fake,news,fight,before,upcoming,&,noisewhat,is,the,outlook,for,AtRemember,Jimmy,Saville,was,a,Conservativevote,for,long-term,British,choice,in,the,today,seems,to,be,between,those,you,do,not,trust,and,those,who,you,cannot,be,dependant,on,The,future,is,bleakThe,choice,in,the,today,seems,to,be,between,those,you,do,not,trust,and,those,who,you,cannot,be,dependant,oBritishMays,Conservatives,hold,22,point,lead,in,Panelbase,poll,election,could,offer,the,turning,point,in,election,could,offer,the,turning,point,in,election,could,offer,the,turning,point,in,straw,poll,shows,designers,see,world,differently,when,it,comes,to,the,of,the,General,Affairs,Council50of,27,AprilPress,to,fight,the,Tories,in,Junes,election,is,to,turn,against,themprogramme,of,the,General,Affairs,CouncilAprilPress,#of,the,General,Affairs,CouncilAprilPress,##Brexit'"
      ]
     },
     "execution_count": 190,
     "metadata": {},
     "output_type": "execute_result"
    }
   ],
   "source": [
    "import re\n",
    "s = tweet_string\n",
    "s = re.sub(r\"[^a-zA-Z\\d]RT,\", \"\", s)\n",
    "s = re.sub(r\"(https)?://t(\\.co)?(/[a-zA-Z\\d]+)?\", \"\", s)\n",
    "\n",
    "s = re.sub(r\"[':!;,?-\\\\$\\\\()\\\\|\\\\+~=_£]+,|[\\.]+,\", \"\", s) #add punctuation characters in the [brackets] to remove them \n",
    "\n",
    "s = re.sub(r\"(#[a-zA-Z\\d']+)+,\", \"\", s) #this will remove the hashtags \n",
    "\n",
    "s = re.sub(r\"[,]+\", \",\", s) #this will remove excessive commas \n",
    "\n",
    "s"
   ]
  },
  {
   "cell_type": "code",
   "execution_count": 99,
   "metadata": {
    "collapsed": true
   },
   "outputs": [],
   "source": [
    "tweetdf['tweet_token'] = tweet_list"
   ]
  },
  {
   "cell_type": "code",
   "execution_count": 85,
   "metadata": {
    "collapsed": false
   },
   "outputs": [
    {
     "data": {
      "text/plain": [
       "''"
      ]
     },
     "execution_count": 85,
     "metadata": {},
     "output_type": "execute_result"
    }
   ],
   "source": [
    "##tweetdf.head(3)"
   ]
  },
  {
   "cell_type": "code",
   "execution_count": 47,
   "metadata": {
    "collapsed": false
   },
   "outputs": [
    {
     "name": "stdout",
     "output_type": "stream",
     "text": [
      ">>> 0\n",
      ">>> RT DanielJLayton And if youve questions about how this all goes down thats FINE Because the BBC has you covered CLASSIC Beeb\n",
      "\n",
      "https…\n",
      ">>> [u'RT', u'DanielJLayton', u'And', u'if', u'youve', u'questions', u'about', u'how', u'this', u'all', u'goes', u'down', u'thats', u'FINE', u'Because', u'the', u'BBC', u'has', u'you', u'covered', u'CLASSIC', u'Beeb', u'https\\u2026']\n"
     ]
    }
   ],
   "source": [
    "tweet_tok=[]\n",
    "for tweet_text in range(1): #(len(tweetdf)):\n",
    "    print(\">>> \"+str(tweet_text))\n",
    "    print(\">>> \"+tweetdf.tweet_token[word])\n",
    "    tok = word_tokenize(tweetdf.tweet_token[word])\n",
    "    print(\">>> \"+str(tok))\n",
    "    tweet_tok.append(tok)"
   ]
  },
  {
   "cell_type": "code",
   "execution_count": 35,
   "metadata": {
    "collapsed": false
   },
   "outputs": [
    {
     "data": {
      "text/plain": [
       "[u'RT, DanielJLayton, And, if, youve, questions, about, how, this, all, goes, down, thats, FINE, Because, the, BBC, has, you, covered, CLASSIC, Beeb, https\\u2026',\n",
       " u'RT, MarcPerrone, Breaking, Utah, GOP, Congressman, Jason, Chaffetz, who, chairs, the, House, Oversight, Committee, wont, seek, reelection\\u2026',\n",
       " u'RT, LiveInUKLoveEU, Hes, a, good, and, decent, MP, but, unfortunately, represents, a, party, that, supports, Brexit, So, voters, in, Holborn, and, St, P\\u2026',\n",
       " u'RT, RogueCoder250, Interviewer, Prime, Minister, what, first, attracted, you, to, the, idea, of, an, early, General, Election, GE17, httpstcozZH\\u2026',\n",
       " u'RT, DavidJo52951945, If, the, SNP, repeat, their, 2015, election, success, amp, win, a, big, majority, of, Scottish, seats, eg, 50, should, they, get, a, 2nd\\u2026',\n",
       " u'RT, itvnews, An, irate, Dennis, Skinner, calls, on, Theresa, May, to, bar, Tory, MPs, involved, in, the, election, expenses, investigation, from, s\\u2026',\n",
       " u'RT, gathara, You, do, know, that, according, to, the, Election, Offences, Act, it, is, illegal, for, GoK, departments, to, campaign, for, a, polit\\u2026',\n",
       " u'RT, BENEFITSNEWS, PMQs, Dennis, Skinner, raised, TORY, ELECTION, FRAUD, most, squalid, election, campaign, in, his, lifetime, TM, stands, by, all, MP\\u2026',\n",
       " u'RT, DailyCaller, French, Police, Foil, \\u2018Imminent\\u2019, ISIS, Attack, Planned, For, Upcoming, Election, httpstco6zIMBPZaet, France, ISIS, ISIL\\u2026',\n",
       " u'RT, ThatTimWalker, Vital, this, isnt, another, election, decided, upon, by, old, menyoungsters, entitled, to, vote, must, ensure, theyre, registered, htt\\u2026',\n",
       " u'Let, me, sum, up, the, election, for, everyone, Its, a, bit, like, the, referendum, We, will, all, vote, for, whom, we, want, then, life, will, go, on',\n",
       " u'RT, CarolineLucas, Gov, to, rush, through, Green, Investment, Bank, sell, off, b4, election, announcement, expected, soon, Reckless, decision, undermine\\u2026',\n",
       " u'This, httpstcorbZbP3bDLd',\n",
       " u'RT, DavidJo52951945, The, UK, pays, an, obscene, amount, in, foreign, aid, it, must, stop, at, this, election, amp, the, money, spent, in, Britain, httpstco\\u2026',\n",
       " u'RT, KaivanShroff, I, cant, decide, if, Im, more, excited, about, Bill, OReilly, being, fired, or, Jason, Chaffetz, not, running, for, reelection',\n",
       " u'Theresa, May, says, no, to, general, election, TV, debates, httpstco0ti7rTGhzh',\n",
       " u'RT, federicacocco, Could, we, all, collectively, pretend, the, election, isnt, happening, Like, we, didnt, hear, May, I, do, this, all, the, time, Sorry\\u2026',\n",
       " u'RT, KaivanShroff, I, cant, decide, if, Im, more, excited, about, Bill, OReilly, being, fired, or, Jason, Chaffetz, not, running, for, reelection',\n",
       " u'Is, AlexChalkChelt, still, being, investigated, for, election, fraud, Cheltenham, GE2017',\n",
       " u'She, knew, she, would, lose, httpstcoSCC0BJznOn',\n",
       " u'RT, JackBlanchard, Theresa, May, immediately, blames, opposition, from, the, Lib, Dems, again, as, she, explains, her, election, Uturn, THEY, HAVE, NINE\\u2026',\n",
       " u'RT, AmySiskind, Is, this, the, 12th, Russian, to, mysterious, or, notso, mysteriously, die, since, our, election, httpstcoNaz7ySd6Ut',\n",
       " u'RT, SkyNews, Dennis, Skinner, asks, if, Conservative, MPs, under, investigation, for, electoral, spending, will, be, barred, from, standing, in\\u2026',\n",
       " u'Throwing, what, I, can, 25, to, ossoff, in, the, GA6, Give, at, httpstcoqFshPvtQDu, and, rise, up, VoteYourOssoff, FriendOfThePod',\n",
       " u'RT, cyclingkev, David, Lammy, MP, DavidLammy, says, the, election, will, be, fought, on, bread, amp, butter, issues, schoolcuts, I, agree, httpstcomr\\u2026',\n",
       " u'RT, Anorakian, AgreeA, lifelong, Labour, voterI, shall, vote, for, the, Brexit, candidate, that, can, win, Tory, never, thought, I, wouldThi\\u2026',\n",
       " u'RT, Telegraph, Theresa, May, agrees, to, BBC, Question, Timestyle, question, and, answer, televised, election, debate, httpstcoEgNDgu8Z89',\n",
       " u'kevina364, IF, the, numbers, dont, stack, up, after, election, how, are, they, going, to, before, the, VOTE',\n",
       " u'RT, THemingford, You, must, be, registered, to, vote, by, May, 22, to, vote, in, the, General, Election, httpstcoJBNZeKM0oS',\n",
       " u'RT, JamesMelville, Theresa, May, I, mean, what, I, say, and, I, say, what, I, mean, Theresa, May, No, general, election, until, 2020, Better, i\\u2026',\n",
       " u'RT, politicususa, After, Georgia, Special, Election, Jason, Chaffetz, Quits, The, House, As, A, Blue, Wave, Builds, For, 2018, politicususa, httpstco\\u2026',\n",
       " u'RT, petesinclair, At, the, last, General, Election, I, voted, Green, This, time, Ill, be, voting, Labour, Thats, them, one, vote, ahead, of, last, time, V\\u2026',\n",
       " u'RT, bigbadjoe21, Because, he, knows, defending, Trump, will, bite, him, in, the, ass, he, is, quiting, to, try, and, look, honorable, to, late, ass, clown, https\\u2026',\n",
       " u'Tomi, Lahren, fired, Bill, OReilly, fired, Jason, Chaffetz, not, seeking, reelection, and, Jesus, has, risen, God, is, really, showing, out, this, April',\n",
       " u'Good, on, ITV, come, on, BBC, confirm, the, same, emptychair, Theresa, May, criticised, for, snubbing, TV, election, debates, httpstco1U5sFpQQlC',\n",
       " u'The, entire, Labour, party, is, a, disgraceAll, running, scared, and, so, you, should, be, httpstcopp648IOeDx',\n",
       " u'RT, downwithtyranny, Once, Thompson, a, Berniefollowing, progressive, beat, the, conservative, establishment, Dem, the, DCCC, had, no, interest, in\\u2026',\n",
       " u'RT, dhothersall, SNP, abstain, on, election, Theyd, prefer, to, keep, the, current, UK, government, than, have, a, go, at, defeating, it, Tells, you, everyth\\u2026',\n",
       " u'Proud, to, be, there, when, the, PM, launched, her, election, campaign, tonight, in, Bolton, conservatives, GE2017, httpstcoBgtF8X5zqF',\n",
       " u'RT, RedNationRising, Intelligence, veterans, described, the, dossier, as, a, complete, fraud, This, is, real, evidence, of, collusion, and, foreign, int\\u2026',\n",
       " u'RT, ijbrads66, Chaos, please, all, day, long, httpstcoQ6U0L5PYvV',\n",
       " u'SeanPBurns1, brianklaas, After, the, election, I, will, have, more, flexibility, to, make, a, deal, with, Putin, Was, that, T\\u2026, httpstcokvXSjBpZmV',\n",
       " u'Stop, the, smears, and, concentrate, on, the, Partys, policies, and, timfarrons, voting, record, Thats, whats, important, httpstcojQSaOifJVx',\n",
       " u'RT, Telegraph, Theresa, May, agrees, to, BBC, Question, Timestyle, question, and, answer, televised, election, debate, httpstcoEgNDgu8Z89',\n",
       " u'RT, jbcadier, Cet, expert, US, de, lopinion, soup\\xe7onne, les, sondages, fran\\xe7ais, de, herding, ils, se, copient, tous, pour, ne, prendre, aucun\\u2026',\n",
       " u'RT, KimbyIndy, US, Treasury, busted, Donald, Trump, for, money, laundering, just, before, he, entered, the, 2016, election, httpstcomlLhISFuUb, via\\u2026',\n",
       " u'RT, ThePoisondwarf, Tory, Election, Fraud, is, about, to, go, nuclear, and, its, probably, why, Theresa, May, Uturned, on, a, sna\\u2026, httpstcoB3fwqPM9\\u2026',\n",
       " u'RT, UKRebelAlliance, Some, Memes, write, themselves, SargonofAkkad, KekHighPriest, Kekenwealth, timgayfish, Ukelection, FreeKekistan\\u2026',\n",
       " u'Help, me, get, financially, can, your, Help, me, save, me, Im, ill, My, account, GE69TB7671445061100021, Leri, Dekanoidze, httpstcopBkmyQVzxY',\n",
       " u'confidence, coming, from, Moscow, as, Putin, is, expecting, to, put, in, a, very, good, showing, in, the, UKelection, httpstcoqZPQEyQvug',\n",
       " u'If, you, can, you, got, ta, do, this, If, you, dont, you, lose, your, voice, Your, voice, is, the, most, powerful, weapon, Be, heard, in\\u2026, httpstcovHsg0wWFsj',\n",
       " u'RT, AlohaKirstie, Is, it, possible, to, vote, for, either, of, these, UKelection, httpstco39xpUsO9uC',\n",
       " u'RT, AlohaKirstie, Is, it, possible, to, vote, for, either, of, these, UKelection, httpstco39xpUsO9uC',\n",
       " u'RT, RaiRadio2, Sorpresa, La, Gran, Bretagna, andr\\xe0, al, voto, anticipato, e, noi, abbiamo, visto, le, schede, in, anteprima, UKelection, brexit\\u2026',\n",
       " u'RT, RaiRadio2, Sorpresa, La, Gran, Bretagna, andr\\xe0, al, voto, anticipato, e, noi, abbiamo, visto, le, schede, in, anteprima, UKelection, brexit\\u2026',\n",
       " u'wow, check, this, out, \\u263a, httpstcoKc6aXlVUFG',\n",
       " u'RT, jordandodsworth, If, you, can, you, got, ta, do, this, If, you, dont, you, lose, your, voice, Your, voice, is, the, most, powerful, weapon, Be, heard, in\\u2026',\n",
       " u'Ist, diese, UKelection, eigentlich, nur, ein, Weg, durch, Verz\\xf6gerung, der, Verhandlungen, den, harten, Brexit, zu, forcieren, Uhr, tickt, doch\\u2026',\n",
       " u'If, I, was, JeremyCorbyn, Id, change, my, name, to, Dont, Know, UKelection, httpstco0JpTWe6bvI',\n",
       " u'RT, PapillonRegina, httpstcovQHLR217xg, UKelection, BritishLions, PAPSMK, \\U0001f436\\U0001f451, Entrepreneur',\n",
       " u'FaberBooks, Why, on, earth, would, you, want, to, avoid, GE2017, No, politics, please, were, Faber, UKelection, UKPolitics',\n",
       " u'Political, strategy, and, games, as, TheresaMay, calls, snap, UKelection, IshaSesayCNN, vausecnn, UCLA, UCLAINTL, httpstcow8gWviZKFP',\n",
       " u'Ein, \\xdcberblick, \\xfcber, die, britischen, Titelseiten, zur, UKelection, httpstcocYTdEBhQYp, httpstcooECznEEbGj',\n",
       " u'Being, proud, of, your, country, doesnt, make, you, a, racist, Vote, Tory, so, we, can, get, this, cleaned, up, now, UKelection\\u2026, httpstcoxnWweDlhJu',\n",
       " u'TheUK, has, announced, a, snap, election, Are, any, of, the, parties, fit, for, the, libertarian, vote, httpstcoRQmQMpWw6r, UKelection, Election2017',\n",
       " u'Jezwecan, GE17, UKelection, httpstcoNEQhyO3Id1',\n",
       " u'Honestly, most, Brit, I, know, hope, for, summer, without, politics, but, that, not, what, they, got, now, distressingly, UKelection',\n",
       " u'There, isnt, a, one, size, fits, allAt, the, end, of, the, day, we, have, to, go, with, who, will, do, less, damage, to, what, means, the, most, to, us, UKelection',\n",
       " u'RT, VirginiaHeath, And, so, the, malicious, political, insults, begin, on, social, media, Im, off, to, live, in, a, cave, till, June, 9th, Whos, coming\\u2026',\n",
       " u'RT, AlohaKirstie, Is, it, possible, to, vote, for, either, of, these, UKelection, httpstco39xpUsO9uC',\n",
       " u'My, favourite, catch, line, would, have, been, \\u201dMay, I\\u201d, UKelection, httpstcoIWkgR5YrPu',\n",
       " u'RT, mhmck, PutinAtWar, exploited, a, golden, opportunity, to, attack, European, unity, with, UKreferendum, \\u2026, hes, thrilled, to, get, another, one, with, \\u2026',\n",
       " u'UKElection2017, UKelection, STOP, THIS, HAPPENING, NOW, httpstcoDqAeXMGUoM',\n",
       " u'Inevitably, httpstcoS2XRF2K12K, GeneralElection, GE2017, Election2017, election, brexit, DailyMail, TheresaMay\\u2026, httpstcovGJKgoOWxW',\n",
       " u'httpstcoo0Fc3EfOTT, Educate, yourselves, Vote, for, policies, not, figureheads, Election2017, UKelection, electioneducation, vote, policies',\n",
       " u'RT, tlsg99, UKElection2017, UKelection, STOP, THIS, HAPPENING, NOW, httpstcoDqAeXMGUoM',\n",
       " u'RT, NikTShirts, Inevitably, httpstcoS2XRF2K12K, GeneralElection, GE2017, Election2017, election, brexit, DailyMail, TheresaMay\\u2026',\n",
       " u'TomRtweets, makes, clear, what, a, disaster, Corbyn, would, be, as, Prime, Minister, httpstcoMeDMZ1qb2S, UKelection, UKSG17',\n",
       " u'RT, tlsg99, UKElection2017, UKelection, STOP, THIS, HAPPENING, NOW, httpstcoDqAeXMGUoM',\n",
       " u'Britain, and, Greece, share, the, preference, of, voting, for, confidence, Other, similarities, to, follow, brexit, UKelection',\n",
       " u'UKelection, Very, interesting, httpstcoDZ9785S0Fu',\n",
       " u'RT, FoodRev, Snap, election, could, offer, the, UK, a, turning, point, in, childobesity, httpstcoY6O0jVplNU, jamieoliver, GE2017\\u2026',\n",
       " u'RT, MarcUK001, UKelection, Very, interesting, httpstcoDZ9785S0Fu',\n",
       " u'RT, FoodRev, Snap, election, could, offer, the, UK, a, turning, point, in, childobesity, httpstcoY6O0jVplNU, jamieoliver, GE2017\\u2026',\n",
       " u'RT, FoodRev, Snap, election, could, offer, the, UK, a, turning, point, in, childobesity, httpstcoY6O0jVplNU, jamieoliver, GE2017\\u2026',\n",
       " u'httpstcozkopQbpBaL, brexit, UKelection, theresamay, Maidenhead, LibDemFightback, GeneralElection2017, GE2017',\n",
       " u'Who, will, rule, westeros, UKelection',\n",
       " u'Theresa, May, Who, always, keeps, her, promises, Promised, not, to, call, an, Election, Shes, called, one, Pity, Tories, will, win, aginUKelection',\n",
       " u'RT, RaiRadio2, Sorpresa, La, Gran, Bretagna, andr\\xe0, al, voto, anticipato, e, noi, abbiamo, visto, le, schede, in, anteprima, UKelection, brexit\\u2026',\n",
       " u'RT, MattMackowiak, TomRtweets, makes, clear, what, a, disaster, Corbyn, would, be, as, Prime, Minister, httpstcoMeDMZ1qb2S, UKelection, UKSG17',\n",
       " u'This, is, important, to, bear, in, mind, Do, your, research, trust, your, sources, amp, read, as, widely, as, possible, UKelection\\u2026, httpstcoVZzz9nHYNU',\n",
       " u'RT, MattMackowiak, TomRtweets, makes, clear, what, a, disaster, Corbyn, would, be, as, Prime, Minister, httpstcoMeDMZ1qb2S, UKelection, UKSG17',\n",
       " u'Okay, just, 10, votes, Id, vote, Conservatives, Why, on, Earth, would, anyone, want, Corbyn, in, charge, of, a, Brexit, move, Pe\\u2026, httpstcoNikySvgyt1',\n",
       " u'Great, Britain, is, being, taken, for, stupidity, by, these, rapist, useless, and, none, pure, immigrants, SnapElection, UKelection, politics, news',\n",
       " u'huge, movements, in, betting, markets, on, probability, of, Tory, victory, following, yesterdays, announcement, UKelection, httpstcobysCMcCWVD',\n",
       " u'Jeremy, Corbyn, likely, to, stay, on, even, if, Labour, suffers, crushing, election, defeat, politics, ukelection, httpstcoRY0vepPiqi',\n",
       " u'RT, ScottieMcClue, I, must, say, nicolasturgeon, would, make, an, excellent, PrimeMinister, as, an, alternative, to, TheresaMay, GeneralElection2017\\u2026',\n",
       " u'RT, MattMackowiak, TomRtweets, makes, clear, what, a, disaster, Corbyn, would, be, as, Prime, Minister, httpstcoMeDMZ1qb2S, UKelection, UKSG17',\n",
       " u'Great, Britain, please, vote, for, Jonathan, Crum, We, must, get, a, hard, Brexit, SnapElection, UKelection, news, Newsnight, uk, politics',\n",
       " u'People, moan, about, the, government, amp, then, want, another, change, of, leadership, Who, exactly, Labour, Libs, UKIP, Piss, off, Brexit, UKelection',\n",
       " u'RT, cnntoday, ThatTimWalker, Political, Commentator, talks, about, teresamay, UKelection, brexit, impact, on, cnntoday, httpstcoNvAlA9Pq29',\n",
       " u'RT, ScottieMcClue, I, must, say, nicolasturgeon, would, make, an, excellent, PrimeMinister, as, an, alternative, to, TheresaMay, GeneralElection2017\\u2026',\n",
       " u'If, the, Conservatives, fail, to, win, this, UKelection, I, will, die, of, shock, Only, an, idiot, would, think, they, will, lose',\n",
       " u'RT, MikespaceOnline, If, the, Conservatives, fail, to, win, this, UKelection, I, will, die, of, shock, Only, an, idiot, would, think, they, will, lose',\n",
       " u'RT, Alt4Bri, Join, Movement, for, Independence, of, All, Nation, States, across, Europe, Silent, Millions, Resist, German, EU, Federation\\u2026',\n",
       " u'RT, AlohaKirstie, Is, it, possible, to, vote, for, either, of, these, UKelection, httpstco39xpUsO9uC',\n",
       " u'RT, UKRebelAlliance, Some, Memes, write, themselves, SargonofAkkad, KekHighPriest, Kekenwealth, timgayfish, Ukelection, FreeKekistan\\u2026',\n",
       " u'Did, the, Royal, Mint, let, slip, Gov, BREXIT, plans, on, new, pound, coin, map, UKelection, httpstcobzzl09oEjc',\n",
       " u'TomRogan, on, what, a, disaster, JeremyCorbyn, would, be, as, PM, httpstcojsCLWxFofR',\n",
       " u'RT, RickPoleway, httpstcozkopQbpBaL, brexit, UKelection, theresamay, Maidenhead, LibDemFightback, GeneralElection2017, GE2017',\n",
       " u'RT, RickPoleway, httpstcozkopQbpBaL, brexit, UKelection, theresamay, Maidenhead, LibDemFightback, GeneralElection2017, GE2017',\n",
       " u'And, SNP, in, Scotland, httpstcodjvSpCRlFK',\n",
       " u'RT, RickPoleway, httpstcozkopQbpBaL, brexit, UKelection, theresamay, Maidenhead, LibDemFightback, GeneralElection2017, GE2017',\n",
       " u'RT, RickPoleway, httpstcozkopQbpBaL, brexit, UKelection, theresamay, Maidenhead, LibDemFightback, GeneralElection2017, GE2017',\n",
       " u'RT, RickPoleway, httpstcozkopQbpBaL, brexit, UKelection, theresamay, Maidenhead, LibDemFightback, GeneralElection2017, GE2017',\n",
       " u'RT, RickPoleway, httpstcozkopQbpBaL, brexit, UKelection, theresamay, Maidenhead, LibDemFightback, GeneralElection2017, GE2017',\n",
       " u'It, is, very, thoughtful, of, you, to, give, your, flock, such, SIMPLE, instructions, They, will, need, guidance, every, step, of, the\\u2026, httpstcohVkkwdTbVN',\n",
       " u'httpstco1QNZY0FpJ6, ireland, NorthernIreland, Stormonttalks, ukelection, Stormont, talks, to, go, into, \\u2018deepfreeze\\u2019, during, UK, election',\n",
       " u'RanaHarbi, ukelection, TheresaMayMP, BorisJohnson, nikkihaley',\n",
       " u'RT, TonysAngle, UKElection, opens, new, chapter, for, sterling, Is, it, cheap, KateAllen, rogerblitz, httpstcoyc5LZpZlmf, via, FT, https\\u2026',\n",
       " u'On, a, gapyear, You, can, still, vote, in, the, UKElection2017, httpstcoriyIUVZtm4, travel, UKelection',\n",
       " u'UKElection, Irrefutable, proof, that, jeremycorbyn, will, cause, mass, starvation, if, elected, httpstwi, httpstcoeymWYhk1Qz',\n",
       " u'RT, lyndoman, uick, look, at, some, of, the, SEO, issues, with, the, Tory, and, Labour, party, websites, Guess, who, is, more, chaotic, httpstco2nPajAM\\u2026',\n",
       " u'UKelection, censorship, httpstcoGbGFRzR2ul',\n",
       " u'spike4169, jcalabra, Labour, in, the, UKElection, are, just, as, dumb, as, AustralianLabor, spike4169, jeremycorbyn, will\\u2026, httpstcoXOmb2RsSWm',\n",
       " u'Address, it, to, UKIP, and, Farage, the, rest, of, us, the, normal, people, are, in, the, same, boat, with, you, httpstcoNIL3ZNkM4v',\n",
       " u'Read, ODIdev, thoughts, on, the, UKelection, and, global, development, priorities, parties, must, commit, to, continue, progre\\u2026, httpstco2938SxFXgO',\n",
       " u'British, PM, May, says, June, election, result, not, certain, despite, frontrunner, status, conservatives, ukelection, httpstcoP7aXmKAbIg',\n",
       " u'Hallalujah, httpstcosQihFy3Gpd',\n",
       " u'TheresaMays, decision, is, as, strategically, flawed, as, it, is, tactically, clever, UKelection, httpstco3ITcNb0NkC, httpstco0bKYXkJ7f3',\n",
       " u'RT, MathsPartyMPA, What, will, the, voter, turnout, likely, be, for, the, UK, snap, election, on, June, 8, auspol, UKelection, poll, ukpolitics, ukpol',\n",
       " u'The, usual, suspects, toryelectionfraud, UKelection, httpstcoR8HKcfkVKI',\n",
       " u'You, Should, Vote, Labour, Because, The, Government, Should, Help, All, of, Us, UKelection, GE17, GE2017, httpstco1sUofvkvCE',\n",
       " u'RT, MathsPartyMPA, Who, will, likely, win, most, from, the, ukelection, auspol, qanda, brexit',\n",
       " u'RT, GlennPHeiser, You, Should, Vote, Labour, Because, The, Government, Should, Help, All, of, Us, UKelection, GE17, GE2017, httpstco1sUofvkvCE',\n",
       " u'Jeremy, Corbyn, presented, with, latest, UKelection, polling, data, httpstcoEthk3dQa5c',\n",
       " u'RT, GlennPHeiser, You, Should, Vote, Labour, Because, The, Government, Should, Help, All, of, Us, UKelection, GE17, GE2017, httpstco1sUofvkvCE',\n",
       " u'RT, GlennPHeiser, You, Should, Vote, Labour, Because, The, Government, Should, Help, All, of, Us, UKelection, GE17, GE2017, httpstco1sUofvkvCE',\n",
       " u'ThresaMay, AskTheresaMay, Corbyn4PM, VoteLabour, ToriesOut, GeneralElection2017, LetsMakeJuneTheEndOfMay, httpstcolSbpQJH0NA',\n",
       " u'ukelection, votetactically, stop, the, Tory, landslide, Vote, tactically, in, your, constituency, httpstcoKAhiysOmnU',\n",
       " u'RT, coughetycough, labourparty, ukelection, JeremyCorbyn, did, nothing, after, being, told, of, paedos, in, his, borough, httpstcobr5bqH09Fk, v\\u2026',\n",
       " u'RT, FoodRev, Snap, election, could, offer, the, UK, a, turning, point, in, childobesity, httpstcoY6O0jVplNU, jamieoliver, GE2017\\u2026',\n",
       " u'Good, piece, a, triumph, for, May, in, UKelection, will, only, deepen, the, divide, w, scotland, amp, NorthernIreland, UKPolitics, httpstcolpm8xjYCLI',\n",
       " u'RT, UserJohnH, Get, out, of, the, EU, and, be, like, Switzerland, \\U0001f600, UKelection',\n",
       " u'Got, my, vote, UKelection, Election2017, CoalitionOfChaos, Uk, UKPolitics, libems, Labour, SNP, plaidcymru, httpstcoHvQHlgf6Id',\n",
       " u'httpstcojrwnDztjRa, Guardian, opinion, UKelection, brexit, How, do, we, get, the, best, MPs, for, Brexit, Britain, Vote, thoughtfully',\n",
       " u'httpstcosobxNnpCs2, IrishTimes, opinion, UKelection, Noel, Whelan, The, UK, faces, an, unhealthy, election',\n",
       " u'Thoughts, UKelection',\n",
       " u'TheresaMay, announced, a, snap, UKElection, Our, analysis, uncovers, public, perception, and, who, is, the, most, trusted, GE17, httpstcoA8IIKPLp39',\n",
       " u'Antonio, Tajani, UKelection, good, news, for, EU, httpstcooKvuTouOSJ, via, POLITICOEurope',\n",
       " u'\\xa312, Billion, spent, abroad, while, the, deindustrialisation, of, the, economy, is, completed, UKIP, Tory, UKelection, httpstcoGSODzJZkii',\n",
       " u'As, we, approach, Brexit, ForeignAid, shows, Britain, is, outward, facing, a, moral, power, and, a, global, leader, UKelection, ProudofAid',\n",
       " u'RT, BigtitsdailyBig, tits, bigtits, bouncingtits, boobs, bigbreasts, UKelection, ChampionsLeague, httpstcovCnPbbZmAa',\n",
       " u'RT, BigtitsdailyBig, tits, bigtits, bouncingtits, boobs, bigbreasts, UKelection, ChampionsLeague, httpstcovCnPbbZmAa',\n",
       " u'probatefees, UKElection2017, UKelections2017, UKelection, httpstcoOBkyW02Vrn',\n",
       " u'RT, NorthNewsNet, \\xa312, Billion, spent, abroad, while, the, deindustrialisation, of, the, economy, is, completed, UKIP, Tory, UKelection, httpst\\u2026',\n",
       " u'RT, NorthNewsNet, \\xa312, Billion, spent, abroad, while, the, deindustrialisation, of, the, economy, is, completed, UKIP, Tory, UKelection, httpst\\u2026',\n",
       " u'NigelFarage, Please, please, come, back, and, lead, us, to, a, successful, election, victory, Sir, Nigel, ukip, brexit, ukelection',\n",
       " u'RT, QueenLetiziaEN, Date, of, State, visit, to, UK, by, King, amp, Queen, of, Spain, has, been, changed, because, of, UKelection, It, will, now, take, place, on, 1\\u2026',\n",
       " u'RT, NorthNewsNet, \\xa312, Billion, spent, abroad, while, the, deindustrialisation, of, the, economy, is, completed, UKIP, Tory, UKelection, httpst\\u2026',\n",
       " u'RT, FoodRev, Snap, election, could, offer, the, UK, a, turning, point, in, childobesity, httpstcoY6O0jVplNU, jamieoliver, GE2017\\u2026',\n",
       " u'RT, NorthNewsNet, \\xa312, Billion, spent, abroad, while, the, deindustrialisation, of, the, economy, is, completed, UKIP, Tory, UKelection, httpst\\u2026',\n",
       " u'd78stock, jeremycorbyn, TheEmperor, RupertMurdoch, GeneralElection, GE17, GE2017, UKelection, JeremyCorbyn\\u2026, httpstcox0QB92QYGY',\n",
       " u'Do, what\\u2019s, best, for, Britain, httpstcoA0t2wJ9Hvi, GeneralElection2017, GeneralElection, UKelection, UK, TheGinaMiller',\n",
       " u'RT, QueenLetiziaEN, Date, of, State, visit, to, UK, by, King, amp, Queen, of, Spain, has, been, changed, because, of, UKelection, It, will, now, take, place, on, 1\\u2026',\n",
       " u'RT, FRANKADEMILLE, May, promises, Unicorns, for, all, So, do, we, have, any, bare, breasted, virgins, who, are, into, bestiality, brexit, UKelection, htt\\u2026',\n",
       " u'Am, I, the, only, 1, who, wishes, that, PrinceWilliam, was, next, n, line, 4, thethrown, \\U0001f1ec\\U0001f1e7\\U0001f600, London, UK, UKelection, RoyalFamily, Wiliamankate, facts',\n",
       " u'Why, not, have, a, theyre, all, terrible, lets, try, some, others, option, Could, be, the, solution, we, need, UKelection\\u2026, httpstcoZdR3sS8dT2',\n",
       " u'Coming, soon, to, Sky, TV, right, after, the, ukelection, httpstcohBLTFZauJo',\n",
       " u'RT, ACPCarnegie, poem, election, fever, Election2017, UKelection, UKElection2017, politics, Elections2017, GeneralElection\\u2026',\n",
       " u'Just, remember, how, important, it, is, to, vote, UKelection, httpstcoJerBimrwXS',\n",
       " u'Massive, Tory, landslide, on, the, way, in, the, UK, UKelection, cdnpoli, httpstcoNREkBHfIEV',\n",
       " u'httpstcoGCuKUE1PJ3, UKelection, brexit, 10, things, weve, learned, from, the, election, campaign, this, week',\n",
       " u'RT, WeFancyXander, Why, not, have, a, theyre, all, terrible, lets, try, some, others, option, Could, be, the, solution, we, need, UKelection\\u2026',\n",
       " u'Check, out, httpstcosR63neiLBl',\n",
       " u'UKelection, spoiler, alert, httpstco6mB6c1qo5U',\n",
       " u'httpstcosXvWURNpxN, UKelection, BrexitElection, guardian, Follow, Brexit, Election, campaign, live, at, the, Guardian',\n",
       " u'RT, KryKeyPremium, all, UK, political, parties, should, have, their, radio, station, on, their, web, site, by, httpstcoOHZIxltfAk, for, UKElection2\\u2026',\n",
       " u'RT, KryKeyPremium, all, UK, political, parties, should, have, their, radio, station, on, their, web, site, by, httpstcoOHZIxltfAk, for, UKElection2\\u2026',\n",
       " u'RT, KryKeyPremium, all, UK, political, parties, should, have, their, radio, station, on, their, web, site, by, httpstcoOHZIxltfAk, for, UKElection2\\u2026',\n",
       " u'RT, KryKeyPremium, all, UK, political, parties, should, have, their, radio, station, on, their, web, site, by, httpstcoOHZIxltfAk, for, UKElection2\\u2026',\n",
       " u'RT, KryKeyPremium, all, UK, political, parties, should, have, their, radio, station, on, their, web, site, by, httpstcoOHZIxltfAk, for, UKElection2\\u2026',\n",
       " u'RT, UKIP16, NigelFarage, Please, please, come, back, and, lead, us, to, a, successful, election, victory, Sir, Nigel, ukip, brexit, ukelection',\n",
       " u'RT, ScottieMcClue, I, must, say, nicolasturgeon, would, make, an, excellent, PrimeMinister, as, an, alternative, to, TheresaMay, GeneralElection2017\\u2026',\n",
       " u'RT, ScottieMcClue, I, must, say, nicolasturgeon, would, make, an, excellent, PrimeMinister, as, an, alternative, to, TheresaMay, GeneralElection2017\\u2026',\n",
       " u'RT, christopherbull, Lol, corbyn, UKelection',\n",
       " u'With, the, Brexit, negotiations, starting, soon, Britain, should, be, less, divided, TimoHarmelink, on, the, UKElection, httpstcowDL5ZGXMjO',\n",
       " u'The, guy, looked, lost, when, he, was, told, TheresaMay, called, a, snap, UKelection, in, june, He, was, like, who, is, Theresa, May, \\U0001f602\\U0001f602\\U0001f602\\U0001f602\\U0001f602, oh, mine',\n",
       " u'RT, ecfr, Brexit, means, Brexit, implications, for, Europe, of, the, UKelection, w, tomnuttall, sd270, markhleonard, Worldin30, httpstcoRZ\\u2026',\n",
       " u'RT, FoodRev, Snap, election, could, offer, the, UK, a, turning, point, in, childobesity, httpstcoY6O0jVplNU, jamieoliver, GE2017\\u2026',\n",
       " u'RT, ecfr, Brexit, means, Brexit, implications, for, Europe, of, the, UKelection, w, tomnuttall, sd270, markhleonard, Worldin30, httpstcoRZ\\u2026',\n",
       " u'RT, FoodRev, Snap, election, could, offer, the, UK, a, turning, point, in, childobesity, httpstcoY6O0jVplNU, jamieoliver, GE2017\\u2026',\n",
       " u'UKElection, was, inevitable, when, Tories, had, to, contest, seats, due, to, Fundinggate',\n",
       " u'RT, katestratton3, UKelection, FO, BorisJohnson, TobiasEllwood, Over, 903K, Citizens, appalled, FreeNazanin, and, Gabriella, Ratcliffe, still\\u2026',\n",
       " u'RT, katestratton3, UKelection, FO, BorisJohnson, TobiasEllwood, Over, 903K, Citizens, appalled, FreeNazanin, and, Gabriella, Ratcliffe, still\\u2026',\n",
       " u'RT, ACPCarnegie, poem, election, fever, Election2017, UKelection, UKElection2017, politics, Elections2017, GeneralElection\\u2026',\n",
       " u'RT, PressTV, British, PM, May, says, June, election, result, \\u2018not, certain\\u2019, httpstcoYJvK01WuYX, UKelection',\n",
       " u'RT, PressTV, British, PM, May, says, June, election, result, \\u2018not, certain\\u2019, httpstcoYJvK01WuYX, UKelection',\n",
       " u'RT, PressTV, British, PM, May, says, June, election, result, \\u2018not, certain\\u2019, httpstcoYJvK01WuYX, UKelection',\n",
       " u'RT, PressTV, British, PM, May, says, June, election, result, \\u2018not, certain\\u2019, httpstcoYJvK01WuYX, UKelection',\n",
       " u'RT, katestratton3, UKelection, FO, BorisJohnson, TobiasEllwood, Over, 903K, Citizens, appalled, FreeNazanin, and, Gabriella, Ratcliffe, still\\u2026',\n",
       " u'RT, ScottieMcClue, I, must, say, nicolasturgeon, would, make, an, excellent, PrimeMinister, as, an, alternative, to, TheresaMay, GeneralElection2017\\u2026',\n",
       " u'RT, AlohaKirstie, Is, it, possible, to, vote, for, either, of, these, UKelection, httpstco39xpUsO9uC',\n",
       " u'RT, katestratton3, UKelection, FO, BorisJohnson, TobiasEllwood, Over, 903K, Citizens, appalled, FreeNazanin, and, Gabriella, Ratcliffe, still\\u2026',\n",
       " u'EU, hopeful, UKelection, will, smooth, Brexit, path, httpstco91BxrHGUt1, httpstcoon4mS1Pf36',\n",
       " u'RT, Sebmeister, Since, the, UK, Prime, Minister, has, announced, a, General, Election, will, be, held, in, June, Who, would, you, vote, for, UKelection, \\u2026',\n",
       " u'RT, FoodRev, Snap, election, could, offer, the, UK, a, turning, point, in, childobesity, httpstcoY6O0jVplNU, jamieoliver, GE2017\\u2026',\n",
       " u'RT, WortEN, EU, hopeful, UKelection, will, smooth, Brexit, path, httpstco91BxrHGUt1, httpstcoon4mS1Pf36',\n",
       " u'UK, Prime, Minister, Theresa, May, gets, General, Election, campaigning, underway, in, Dudley, ukelection, conservatives, httpstco2MvZK8iEcC',\n",
       " u'The, Conservatives, A, great, bunch, of, lads, GE2017, UKelection, httpstcov6Cu4KeiuS',\n",
       " u'VoteConservative, GE2017, httpstco7eZLPg98qI',\n",
       " u'This, should, be, going, viral, GE2017, labourpress, JeremyCorbyn4PM, httpstco7eZLPg98qI',\n",
       " u'RT, BeltwayGuy, Why, did, TheresaMay, call, GeneralElection, JeremyCorbyn, as, unpopular, with, Brits, as, DonaldTrump, UKelection\\u2026',\n",
       " u'TheresaMay, doesnt, work, for, the, majority, of, the, British, population, GE17, GeneralElection, UKElection, VoteLabour, httpstcoLOs0DdE2KX',\n",
       " u'Place, names, mentioned, in, recent, tweets, posted, on, UKLabour, UK, ukpoli, UKelection, UKElection2017\\u2026, httpstcoKYIe5021tU',\n",
       " u'RT, katestratton3, UKelection, FO, BorisJohnson, TobiasEllwood, Over, 903K, Citizens, appalled, FreeNazanin, and, Gabriella, Ratcliffe, still\\u2026',\n",
       " u'RT, ipox77, Corbyn, or, May, on, feeding, children, UKelection, httpstcoJSaQ9zPCb1',\n",
       " u'Tickers, trending, on, TWTR, in, last, 1, hour, UKelection, fintech, Blockchain, httpstcoWSuupydgGE, httpstcoVKdSMkug0u',\n",
       " u'RT, katestratton3, UKelection, FO, BorisJohnson, TobiasEllwood, Over, 903K, Citizens, appalled, FreeNazanin, and, Gabriella, Ratcliffe, still\\u2026',\n",
       " u'Python, generated, word, cloud, cluster, data, drawn, from, the, recent, Tweets, of, 3, main, parties, currently, in, UKParliament\\u2026, httpstcon7BMT7X7KL',\n",
       " u'RT, katestratton3, UKelection, theresamay, Number10gov, BorisJohnson, foreignoffice, Over, 902K, appalled, FreeNazanin, amp, Gabriella, stil\\u2026',\n",
       " u'ludhell123, infozentrale, Sieh, dir, den, Tweet, von, IchBewegt, an, httpstcoqLRNYMDqP6, wohlstand, in, \\U0001f1e9\\U0001f1ea, liegt, am, ex\\u2026, httpstcoXWbIcmi47u',\n",
       " u'This, is, why, you, need, to, VoteLabour, Unless, you, really, rejoice, in, the, most, vulnerable, being, abused, on, a, daily, basis\\u2026, httpstcoJlbsAn8ghw',\n",
       " u'Place, names, mentioned, in, recent, tweets, posted, on, Conservatives, UK, ukpoli, UKelection, UKElection2017\\u2026, httpstcoIbEtzs3zBf',\n",
       " u'RT, tingsocial, \\u0e21\\u0e2b\\u0e01\\u0e23\\u0e23\\u0e21\\u0e2b\\u0e32\\u0e40\\u0e2a\\u0e35\\u0e22\\u0e07\\u0e40\\u0e25\\u0e37\\u0e2d\\u0e01\\u0e15\\u0e31\\u0e49\\u0e07\\u0e2a\\u0e2b\\u0e23\\u0e32\\u0e0a\\u0e2d\\u0e32\\u0e13\\u0e32\\u0e08\\u0e31\\u0e01\\u0e23\\u0e40\\u0e23\\u0e34\\u0e48\\u0e21\\u0e41\\u0e25\\u0e49\\u0e27, \\u0e2b\\u0e25\\u0e31\\u0e07\\u0e2a\\u0e20\\u0e32\\u0e40\\u0e2b\\u0e47\\u0e19\\u0e0a\\u0e2d\\u0e1a\\u0e01\\u0e32\\u0e23\\u0e22\\u0e38\\u0e1a\\u0e2a\\u0e20\\u0e32\\u0e40\\u0e21\\u0e37\\u0e48\\u0e2d\\u0e0a\\u0e48\\u0e27\\u0e07\\u0e40\\u0e0a\\u0e49\\u0e32\\u0e15\\u0e32\\u0e21\\u0e40\\u0e27\\u0e25\\u0e32\\u0e17\\u0e49\\u0e2d\\u0e07\\u0e16\\u0e34\\u0e48\\u0e19\\u0e02\\u0e2d\\u0e07\\u0e2d\\u0e31\\u0e07\\u0e01\\u0e24\\u0e29\\u2026',\n",
       " u'RT, katestratton3, UKelection, FO, BorisJohnson, TobiasEllwood, Over, 903K, Citizens, appalled, FreeNazanin, and, Gabriella, Ratcliffe, still\\u2026',\n",
       " u'See, why, these, assets, are, trending, in, 1, watchlist, UKelection, fintech, Blockchain, httpstcoWSuupydgGE, httpstco4e4qXuAvYY',\n",
       " u'RT, noctulapress, This, is, why, you, need, to, VoteLabour, Unless, you, really, rejoice, in, the, most, vulnerable, being, abused, on, a, daily, basis\\u2026',\n",
       " u'RT, tingsocial, \\u0e21\\u0e2b\\u0e01\\u0e23\\u0e23\\u0e21\\u0e2b\\u0e32\\u0e40\\u0e2a\\u0e35\\u0e22\\u0e07\\u0e40\\u0e25\\u0e37\\u0e2d\\u0e01\\u0e15\\u0e31\\u0e49\\u0e07\\u0e2a\\u0e2b\\u0e23\\u0e32\\u0e0a\\u0e2d\\u0e32\\u0e13\\u0e32\\u0e08\\u0e31\\u0e01\\u0e23\\u0e40\\u0e23\\u0e34\\u0e48\\u0e21\\u0e41\\u0e25\\u0e49\\u0e27, \\u0e2b\\u0e25\\u0e31\\u0e07\\u0e2a\\u0e20\\u0e32\\u0e40\\u0e2b\\u0e47\\u0e19\\u0e0a\\u0e2d\\u0e1a\\u0e01\\u0e32\\u0e23\\u0e22\\u0e38\\u0e1a\\u0e2a\\u0e20\\u0e32\\u0e40\\u0e21\\u0e37\\u0e48\\u0e2d\\u0e0a\\u0e48\\u0e27\\u0e07\\u0e40\\u0e0a\\u0e49\\u0e32\\u0e15\\u0e32\\u0e21\\u0e40\\u0e27\\u0e25\\u0e32\\u0e17\\u0e49\\u0e2d\\u0e07\\u0e16\\u0e34\\u0e48\\u0e19\\u0e02\\u0e2d\\u0e07\\u0e2d\\u0e31\\u0e07\\u0e01\\u0e24\\u0e29\\u2026',\n",
       " u'Track, trending, assets, in, 1, watchlist, UKelection, fintech, Blockchain, httpstcothFf4MbYVD, httpstco3lhT7caMWc',\n",
       " u'RT, ScottieMcClue, I, must, say, nicolasturgeon, would, make, an, excellent, PrimeMinister, as, an, alternative, to, TheresaMay, GeneralElection2017\\u2026',\n",
       " u'Place, names, mentioned, in, recent, tweets, posted, on, UKLabour, UK, ukpoli, UKelection, UKElection2017\\u2026, httpstco72ZSE0RCB0',\n",
       " u'RT, mrjohnnymac18, Conservative, voters, fall, into, one, of, these, six, categories, GE2017, GeneralElection, GE17, Election2017, UKelection, http\\u2026',\n",
       " u'RT, RGardarsson, Sweet, TheresaMay, CorbynOut, UKelection, Conservatives, httpstcoFHihx8oWja',\n",
       " u'UK, Conservatives, on, course, for, landslide, victory, in, election, poll, suggests, labour, politics, ukelection, httpstcopK8OeBI6Gk',\n",
       " u'UK, SNP, reselects, 54, MPs, as, general, election, candidates, ukelection, scotland, sturgeon, politics, labour, ukip, httpstcoFlZovPYbsG',\n",
       " u'Place, names, mentioned, in, recent, tweets, posted, on, LibDems, UK, ukpoli, UKelection, UKElection2017, UKelections2017\\u2026, httpstcoojkL3Q6tmU',\n",
       " u'These, assets, are, seeing, a, jump, in, tweets, UKelection, fintech, Blockchain, httpstcothFf4MbYVD, httpstcoYUpwDPQMW6',\n",
       " u'Your, UKElection, choices, folks, Vanilla, Man, IJustDontUnderstandWhyTheKidsDontGetMe, Deputy, Headmaster, and, Sauron, Vinegar, Tits',\n",
       " u'See, why, these, assets, are, trending, in, 1, watchlist, UKelection, fintech, Blockchain, httpstcoWSuupydgGE, httpstcoaQ8NTqIfJX',\n",
       " u'RT, Steven27916, \\u0397, \\u03c4\\u03c5\\u03c7\\u03bf\\u03b4\\u03b9\\u03ce\\u03ba\\u03c4\\u03c1\\u03b9\\u03b1, \\u03a4\\u03b5\\u03c1\\u03ad\\u03b6\\u03b1, \\u039c\\u03ad\\u03b9, \\u03ba\\u03b1\\u03b9, \\u03b7, \\u03bf\\u03c5\\u03c3\\u03af\\u03b1, \\u03c4\\u03c9\\u03bd, \\u03b2\\u03c1\\u03b5\\u03c4\\u03b1\\u03bd\\u03b9\\u03ba\\u03ce\\u03bd, \\u03b5\\u03ba\\u03bb\\u03bf\\u03b3\\u03ce\\u03bd, \\u03ac\\u03c1\\u03b8\\u03c1\\u03bf, \\u03bc\\u03bf\\u03c5, \\u03c3\\u03c4\\u03bf, httpstcoMqP5epkXfy, brexit, UKelect\\u2026',\n",
       " u'RT, FoodRev, Snap, election, could, offer, the, UK, a, turning, point, in, childobesity, httpstcoY6O0jVplNU, jamieoliver, GE2017\\u2026',\n",
       " u'RT, FoodRev, Snap, election, could, offer, the, UK, a, turning, point, in, childobesity, httpstcoY6O0jVplNU, jamieoliver, GE2017\\u2026',\n",
       " u'RT, FoodRev, Snap, election, could, offer, the, UK, a, turning, point, in, childobesity, httpstcoY6O0jVplNU, jamieoliver, GE2017\\u2026',\n",
       " u'See, why, these, assets, are, trending, in, 1, watchlist, UKelection, fintech, Blockchain, httpstcothFf4MbYVD, httpstcodfd114NcQA',\n",
       " u'Tickers, trending, on, TWTR, in, last, 1, hour, UKelection, fintech, Blockchain, httpstcoWSuupydgGE, httpstcox5Bp9i7Zbk',\n",
       " u'RT, ipox77, Corbyn, or, May, on, feeding, children, UKelection, httpstcoJSaQ9zPCb1',\n",
       " u'Tickers, trending, on, TWTR, in, last, 1, hour, UKelection, fintech, frenchelections, Blockchain, MSFT\\u2026, httpstcobcwkh14hic',\n",
       " u'jeremycorbyn, your, ability, to, push, the, most, feeble, marginal, amp, insignificant, policies, while, the, country, burns, is, awe, inspiring, UKelection',\n",
       " u'Track, trending, assets, in, 1, watchlist, UKelection, fintech, frenchelections, Blockchain, MSFT, httpstcolUHBF2Xgre, httpstcoRcWPi9KnFE',\n",
       " u'UKelection, httpstcohchr87SvTa',\n",
       " u'RT, ELECTIONUK17, DAILY, POLL, RETWEET, TO, REACH, WIDER, AUDIENCE, GeneralElection, GeneralElection2017, Election2017, election, ge17, poll\\u2026',\n",
       " u'FTSE, traded, lower, last, week, from, our, weekend, update, Get, the, latest, charts, \\u25b6\\ufe0f, httpstcoaFQh8vIwbh\\u2026, httpstcodvTPNYboNR',\n",
       " u'UKIP, NigelFarage, UKelection, UKElection2017, httpstcor8DEO55ni3',\n",
       " u'GBPUSD, calling, the, move, higher, before, the, UKelection, surprise, announcement, New, chart, \\u25b6\\ufe0f, httpstcolNf4MqCALy\\u2026, httpstcoEVmucHi1Qm',\n",
       " u'jeremycorbyn, wont, say, weather, hed, let, BritishForces, take, out, AlBaghdadi, Total, coward, leftist, coconspirator\\u2026, httpstcoHsT4xoEbpr',\n",
       " u'RT, AlienOvichO, GBPUSD, calling, the, move, higher, before, the, UKelection, surprise, announcement, New, chart, \\u25b6\\ufe0f, httpstcolNf4MqCALy\\u2026',\n",
       " u'4AllSoulKind, cgm807, ccenters1, OnAngelWings, samsoncan1, dynamex, Gallowskeeper, ChrisBragdon, dontevereadonme\\u2026, httpstco3gLMDGWVbu',\n",
       " u'See, why, these, assets, are, trending, in, 1, watchlist, UKelection, fintech, frenchelections, Blockchain\\u2026, httpstcoNzXCGempPd',\n",
       " u'RT, colinthecorpse, marr, Election2017, UKelection, TheresaMay, Conservative, VoteLabour, httpstcoJf4X20vXEX',\n",
       " u'RT, PopPoliticsAVT, Canadian, Jeanluc, Picard, Endorses, Jeremy, Corby, for, Prime, Minister, UK, UKElection2017, UKelection, UKLabour, httpstco\\u2026',\n",
       " u'shouldbeinNationalPortraitGallery, surelyJeffOvers, httpstcoOSUOAatIfB',\n",
       " u'RT, PopPoliticsAVT, Canadian, Jeanluc, Picard, Endorses, Jeremy, Corby, for, Prime, Minister, UK, UKElection2017, UKelection, UKLabour, httpstco\\u2026',\n",
       " u'Gain, from, movement, in, these, buzzing, assets, UKelection, fintech, frenchelections, Blockchain, httpstcowgdzpjcEQy, httpstcoyEpa0pr9CL',\n",
       " u'RT, StephenQuentin, GE2017, UKelection, Remember, British, Citizens, trapped, abroad, FreeNazanin, FreeGrandpaKamal, FreeAndyTsege, and, o\\u2026',\n",
       " u'Python, generated, word, cloud, cluster, data, drawn, from, the, recent, Tweets, of, 3, main, parties, currently, in, UKParliament\\u2026, httpstcoBJMK9KfEE0',\n",
       " u'RT, StephenQuentin, GE2017, UKelection, Remember, British, Citizens, trapped, abroad, FreeNazanin, FreeGrandpaKamal, FreeAndyTsege, and, o\\u2026',\n",
       " u'Topht301, I, hope, that, voters, in, UKElection2017, will, also, think, the, same, way, amp, vote, the, ToriesOut\\u2026, httpstco4YZ5AsLA23',\n",
       " u'Tickers, trending, on, TWTR, in, last, 1, hour, UKelection, fintech, frenchelections, Blockchain, httpstcowgdzpjcEQy, httpstcoRTYBvvoGs4',\n",
       " u'Corbyn, GE2017, Millennials, left, socialjustice, labour, GE17, GeneralElection2017, Humanrights, VoteThemOut\\u2026, httpstco6OaLNNfNJa',\n",
       " u'RT, EllenaDeeley, Corbyn, GE2017, Millennials, left, socialjustice, labour, GE17, GeneralElection2017, Humanrights, VoteThemOut\\u2026',\n",
       " u'These, assets, are, seeing, a, jump, in, tweets, UKelection, fintech, frenchelections, Blockchain, httpstcoA5rhCfZKQR, httpstco4I7dJTzTlC',\n",
       " u'Well, said, Corbyn, GE2017, socialjustice, labour, humanrights, power, ToriesOut, GeneralElection, httpstco8ErCq6R13c',\n",
       " u'RT, EllenaDeeley, Corbyn, GE2017, Millennials, left, socialjustice, labour, GE17, GeneralElection2017, Humanrights, VoteThemOut\\u2026',\n",
       " u'Labour, make, official, complaint, over, leaked, document, telling, EU, officials, to, discriminate, against, UKElection, httpstcoT58zHoep4R',\n",
       " u'RT, EllenaDeeley, Corbyn, GE2017, Millennials, left, socialjustice, labour, GE17, GeneralElection2017, Humanrights, VoteThemOut\\u2026',\n",
       " u'The, Green, Party, has, pulled, out, of, a, crucial, seat, to, help, Labour, beat, the, Tories, UKelection, GE17, httpstcotpCtASXuCQ',\n",
       " u'UKelection, brexit2, Nigel, Farage, sold, you, all, to, the, Russians, Please, fix, it, httpstcoRP6QS7XeQ5',\n",
       " u'Track, trending, assets, in, 1, watchlist, UKelection, fintech, frenchelections, Blockchain, httpstcowgdzpjcEQy, httpstcooK6bvWFgJS',\n",
       " u'File, under, Clearly, Fit, and, Proper, to, Own, UK, Broadcaster, ukelection, httpstcoCzCwTCjkrq',\n",
       " u'RT, aliciavperry, The, Green, Party, has, pulled, out, of, a, crucial, seat, to, help, Labour, beat, the, Tories, UKelection, GE17, httpstcotpCtASXuCQ',\n",
       " u'Tickers, trending, on, TWTR, in, last, 1, hour, UKelection, fintech, frenchelections, Blockchain, httpstcoA5rhCfZKQR, httpstco2xjiCa6Nvy',\n",
       " u'Where, Should, Greens, Stand, and, not, Stand, in, the, UK, General, Election, httpstco8AFOyoKMlt, greenparty, UKElection2017, UKelection',\n",
       " u'Track, trending, assets, in, 1, watchlist, UKelection, fintech, frenchelections, Blockchain, httpstcoA5rhCfZKQR, httpstcolSPdpcBejp',\n",
       " u'Gain, from, movement, in, these, buzzing, assets, UKelection, fintech, frenchelections, Blockchain, httpstcowgdzpjcEQy, httpstco2fMgfBhMrE',\n",
       " u'Barry, Gardiner, On, ridge, pls, RT\\u21ba\\u2764\\ufe0f, \\ufe0f\\ufe0f, httpstco9pf29nE60l, UKelection, politics, BarryGardiner, LabourParty, The',\n",
       " u'Vince, Cable, On, ridge, pls, RT\\u21ba\\u2764\\ufe0f, \\ufe0f\\ufe0f, httpstcoNJZoC3P88V, Coalition, LiberalDemocrats, UKelection, TimFarron, Nick',\n",
       " u'Damien, Green, On, ridge, pls, RT\\u21ba\\u2764\\ufe0f, \\ufe0f\\ufe0f, httpstcolKzRbLukKo, ConservativeParty, UKelection, DamienGreen, Trident, Po',\n",
       " u'RT, EllenaDeeley, Corbyn, GE2017, Millennials, left, socialjustice, labour, GE17, GeneralElection2017, Humanrights, VoteThemOut\\u2026',\n",
       " u'VOTE, LIBERAL, DEMOCRATS, libdems, libdems, remain, ukelection, election17, toriesout\\u2026, httpstcoS1tQtgB72j',\n",
       " u'See, why, these, assets, are, trending, in, 1, watchlist, UKelection, fintech, frenchelections, Blockchain\\u2026, httpstcoAJcZOfglBF',\n",
       " u'RT, FoodRev, Snap, election, could, offer, the, UK, a, turning, point, in, childobesity, httpstcoY6O0jVplNU, jamieoliver, GE2017\\u2026',\n",
       " u'RT, gucancan, Lets, hope, Brexit, was, a, lesson, to, young, UK, voters, We, need, a, better, UK, pls, register, and, VOTE, brexit, UKelection, loveuk, \\u2026',\n",
       " u'RT, gucancan, Lets, hope, Brexit, was, a, lesson, to, young, UK, voters, We, need, a, better, UK, pls, register, and, VOTE, brexit, UKelection, loveuk, \\u2026',\n",
       " u'Well, if, this, isnt, foreshadowing, I, dont, know, what, isTheresa, May, is, out, ItvBigheads, ITV, bigheads, TheresaMay, brexit, UKelection',\n",
       " u'Gain, from, movement, in, these, buzzing, assets, UKelection, fintech, frenchelections, Blockchain, httpstcoA5rhCfZKQR, httpstcoBWmyMk0ktP',\n",
       " u'RT, ELECTIONUK17, DAILY, POLL, RETWEET, TO, REACH, WIDER, AUDIENCE, GeneralElection, GeneralElection2017, Election2017, election, ge17, poll\\u2026',\n",
       " u'RT, ELECTIONUK17, DAILY, POLL, RETWEET, TO, REACH, WIDER, AUDIENCE, GeneralElection, GeneralElection2017, Election2017, election, ge17, poll\\u2026',\n",
       " u'See, why, these, assets, are, trending, in, 1, watchlist, UKelection, fintech, frenchelections, Blockchain, EURUSD\\u2026, httpstcoIzqEIb0igF',\n",
       " u'RT, FoodRev, Snap, election, could, offer, the, UK, a, turning, point, in, childobesity, httpstcoY6O0jVplNU, jamieoliver, GE2017\\u2026',\n",
       " u'RT, FoodRev, Snap, election, could, offer, the, UK, a, turning, point, in, childobesity, httpstcoY6O0jVplNU, jamieoliver, GE2017\\u2026',\n",
       " u'RT, FloraBaker, This, is, important, to, bear, in, mind, Do, your, research, trust, your, sources, amp, read, as, widely, as, possible, UKelection\\u2026',\n",
       " u'RT, gucancan, Lets, hope, Brexit, was, a, lesson, to, young, UK, voters, We, need, a, better, UK, pls, register, and, VOTE, brexit, UKelection, loveuk, \\u2026',\n",
       " u'These, assets, are, seeing, a, jump, in, tweets, UKelection, fintech, frenchelections, Blockchain, EURUSD\\u2026, httpstco5IB0eaOVOG',\n",
       " u'RT, gucancan, Lets, hope, Brexit, was, a, lesson, to, young, UK, voters, We, need, a, better, UK, pls, register, and, VOTE, brexit, UKelection, loveuk, \\u2026',\n",
       " u'Meanwhile, in, the, UK, UKelection, httpstcoF9GigpUQOC',\n",
       " u'See, why, these, assets, are, trending, in, 1, watchlist, UKelection, fintech, frenchelections, Blockchain, EURUSD\\u2026, httpstcoqJE8iEyjPm',\n",
       " u'Hoe, re\\xebel, is, een, debrexit, na, UKelection, dtv, terzake',\n",
       " u'RT, FoodRev, Snap, election, could, offer, the, UK, a, turning, point, in, childobesity, httpstcoY6O0jVplNU, jamieoliver, GE2017\\u2026',\n",
       " u'RT, FoodRev, Snap, election, could, offer, the, UK, a, turning, point, in, childobesity, httpstcoY6O0jVplNU, jamieoliver, GE2017\\u2026',\n",
       " u'These, assets, are, seeing, a, jump, in, tweets, UKelection, fintech, frenchelections, Blockchain, EURUSD\\u2026, httpstcofjU2RwnEFh',\n",
       " u'bbclaurak, \\U0001f1ea\\U0001f1fastronger, together, we, \\U0001f1ec\\U0001f1e7\\U0001f1eb\\U0001f1f7\\U0001f1e9\\U0001f1ea, are, too, small, to, matter, eu, frenchelection, httpstcoySpgajvjS9, be, smart, UKelection',\n",
       " u'UKelection, UKLabour, httpstcoTbWpjgluWX',\n",
       " u'Guessed, as, much, Question, then, becomes, whether, members, will, still, support, him, This, is, the, only, interesting, unknown\\u2026, httpstcoiSnHqUcImq',\n",
       " u'First, time, ever, that, Im, hearing, people, ask, each, other, outright, what, theyre, voting, discussing, why, and, listening, UKElection, Cambridge',\n",
       " u'Jeremy, Corbyn, To, Place, the, Wealth, of, Corporations, Above, the, Wealth, of, People, is, Wrong, httpstcoRtbeoGfDOK, UKVotes, UKElection',\n",
       " u'See, why, these, assets, are, trending, in, 1, watchlist, UKelection, fintech, Blockchain, SENSEX, USDYEN\\u2026, httpstcog03j9E0vMq',\n",
       " u'MLS, Fellow, Tom, Daly, DemocracyTalk, on, the, UKelection, and, the, Brexit, big, picture, httpstcoaz5lgJjsFN',\n",
       " u'RT, UKElection17, So, whos, going, to, win, GeneralElection2017, vote, below, and, retweet, GE2017, June8th, UKElection2017, UKelection, ge1\\u2026',\n",
       " u'RT, MelbLawSchool, MLS, Fellow, Tom, Daly, DemocracyTalk, on, the, UKelection, and, the, Brexit, big, picture, httpstcoaz5lgJjsFN',\n",
       " u'Tickers, trending, on, TWTR, in, last, 1, hour, UKelection, financialplan, Blockchain, SENSEX, YENUSD\\u2026, httpstcoSYJ4A03cH2',\n",
       " u'RT, UKElection17, So, whos, going, to, win, GeneralElection2017, vote, below, and, retweet, GE2017, June8th, UKElection2017, UKelection, ge1\\u2026',\n",
       " u'These, assets, are, seeing, a, jump, in, tweets, UKelection, Blockchain, SENSEX, USDCAD, YENUSD, httpstcoWHCepavmVu, httpstco9XG8qnvVPH',\n",
       " u'Why, NHS, Workers, Should, Vote, for, the, Labour, Partys, Jeremy, Corbyn, httpstcoMVIR3kvyCV, Election2017, UKElection, LabourParty',\n",
       " u'UK, UKIP, leader, Paul, Nuttall, appears, to, compare, himself, to, Gandhi, httpstco57ZLPHOmPK, ukelection, farage',\n",
       " u'What, to, expect, after, the, UK, general, election, httpstcoPHP35zbwF4, via, FT, UKElection, Brexit',\n",
       " u'\\U0001f602\\U0001f602\\U0001f602, PMQs, GE2017, UKElection2017, ukelection, httpstco5soKNAsYIi',\n",
       " u'Tickers, trending, on, TWTR, in, last, 1, hour, finplanning, Blockchain, USDYEN, SENSEX, UKelection, httpstcoqr4XEBHZ1U, httpstcoouDYjLLz0B',\n",
       " u'LOL, Labour, UKElection, httpstcoSgcmqsYkUc',\n",
       " u'A, UKelection, should, cover, home, affairs, such, as, NHS, socialcare, education, but, nobody, seems, to, put, plans, or, policy\\u2026, httpstcoNeP9pGNHUx',\n",
       " u'GinaMiller, launches, tacticalvoting, campaign, for, UKelection, httpstcogukJQGNOAc',\n",
       " u'Facebook, urged, to, step, up, fakenews, fight, before, UKelection, httpstcoNDfZJUIgaU',\n",
       " u'RT, aethisconsult, Facebook, urged, to, step, up, fakenews, fight, before, UKelection, httpstcoNDfZJUIgaU',\n",
       " u'RT, aethisconsult, GinaMiller, launches, tacticalvoting, campaign, for, UKelection, httpstcogukJQGNOAc',\n",
       " u'RT, MelbLawSchool, MLS, Fellow, Tom, Daly, DemocracyTalk, on, the, UKelection, and, the, Brexit, big, picture, httpstcoaz5lgJjsFN',\n",
       " u'Labour, outlines, probusiness, \\u201csoft, Brexit\\u201d, policy, for, June, 8, vote, World, Socialist, Web, Site, httpstcoQ8OrReVYlb, UKElection',\n",
       " u'Labour, outlines, probusiness, \\u201csoft, Brexit\\u201d, policy, for, June, 8, vote, World, Socialist, Web, Site, httpstcoCkSVHsE9U0, UKElection',\n",
       " u'Datadriven, forecast, of, the, upcoming, UKelection, httpstcowR7cELpXHf, orecastingtheelection, with, Welsh, scenario, added, GE2017',\n",
       " u'Facebook, urged, to, step, up, fake, news, fight, before, UK, election, httpstcoNjErFbVG8E, ukelection, election\\u2026, httpstcoFD1n023xMu',\n",
       " u'With, the, upcoming, UKelection, amp, Brexit, noise, what, is, the, outlook, for, markets, httpstcobeZl4fjDJz, Capital, At\\u2026, httpstcoAVudD4Vy9I',\n",
       " u'RT, Valkyrie2, ElectionUK, Remember, Jimmy, Saville, was, a, Conservative, httpstcoMH12akQyPh',\n",
       " u'No, UKElection, vote, for, longterm, British, Expats, httpstcoSUIjbdVLc9, httpstcoPHrQKLtbtL',\n",
       " u'The, choice, in, the, UKelection, today, seems, to, be, between, those, you, do, not, trust, and, those, who, you, can, not, be, dependant, on, The, future, is, bleak',\n",
       " u'RT, AbdulazimSaffaf, The, choice, in, the, UKelection, today, seems, to, be, between, those, you, do, not, trust, and, those, who, you, can, not, be, dependant, o\\u2026',\n",
       " u'British, PM, May\\u2019s, Conservatives, hold, 22, point, lead, in, Panelbase, poll, UKelection, Brexit, httpstcohvGR6slAC8',\n",
       " u'RT, FoodRev, Snap, election, could, offer, the, UK, a, turning, point, in, childobesity, httpstcoY6O0jVplNU, jamieoliver, GE2017\\u2026',\n",
       " u'RT, FoodRev, Snap, election, could, offer, the, UK, a, turning, point, in, childobesity, httpstcoY6O0jVplNU, jamieoliver, GE2017\\u2026',\n",
       " u'RT, FoodRev, Snap, election, could, offer, the, UK, a, turning, point, in, childobesity, httpstcoY6O0jVplNU, jamieoliver, GE2017\\u2026',\n",
       " u'DesignWeek, straw, poll, shows, designers, see, world, differently, when, it, comes, to, the, UKelection, httpstcoy24TWlUkUJ',\n",
       " u'Indicative, programme, of, the, General, Affairs, Council, Art, 50, of, 27, April, EUCouncil, Press, Brexit, UKelection, httpstcoO7vt3J0SNl',\n",
       " u'The, way, to, fight, the, Tories, in, June\\u2019s, election, is, to, turn, Brexit, against, them, httpstcocJAyhBm4vR, UKelection',\n",
       " u'Indicative, programme, of, the, General, Affairs, Council, Art50, 27, April, EUCouncil, Press, EUCO, Brexit\\u2026, httpstcovG62FsrSaM',\n",
       " u'Indicative, programme, of, the, General, Affairs, Council, Art50, 27, April, EUCouncil, Press, EUCO, Brexit\\u2026, httpstcoVwaevebdY1']"
      ]
     },
     "execution_count": 35,
     "metadata": {},
     "output_type": "execute_result"
    }
   ],
   "source": [
    "\n",
    "#tweetdf['tweet_tok'] = ', '.join(tweet_tok)"
   ]
  },
  {
   "cell_type": "code",
   "execution_count": 36,
   "metadata": {
    "collapsed": false
   },
   "outputs": [
    {
     "name": "stdout",
     "output_type": "stream",
     "text": [
      "<FreqDist with 277 samples and 353 outcomes>\n",
      "[(u'RT, FoodRev, Snap, election, could, offer, the, UK, a, turning, point, in, childobesity, httpstcoY6O0jVplNU, jamieoliver, GE2017\\u2026', 19), (u'RT, katestratton3, UKelection, FO, BorisJohnson, TobiasEllwood, Over, 903K, Citizens, appalled, FreeNazanin, and, Gabriella, Ratcliffe, still\\u2026', 7), (u'RT, ScottieMcClue, I, must, say, nicolasturgeon, would, make, an, excellent, PrimeMinister, as, an, alternative, to, TheresaMay, GeneralElection2017\\u2026', 6), (u'RT, RickPoleway, httpstcozkopQbpBaL, brexit, UKelection, theresamay, Maidenhead, LibDemFightback, GeneralElection2017, GE2017', 6), (u'RT, AlohaKirstie, Is, it, possible, to, vote, for, either, of, these, UKelection, httpstco39xpUsO9uC', 5), (u'RT, KryKeyPremium, all, UK, political, parties, should, have, their, radio, station, on, their, web, site, by, httpstcoOHZIxltfAk, for, UKElection2\\u2026', 5), (u'RT, NorthNewsNet, \\xa312, Billion, spent, abroad, while, the, deindustrialisation, of, the, economy, is, completed, UKIP, Tory, UKelection, httpst\\u2026', 4), (u'RT, EllenaDeeley, Corbyn, GE2017, Millennials, left, socialjustice, labour, GE17, GeneralElection2017, Humanrights, VoteThemOut\\u2026', 4), (u'RT, gucancan, Lets, hope, Brexit, was, a, lesson, to, young, UK, voters, We, need, a, better, UK, pls, register, and, VOTE, brexit, UKelection, loveuk, \\u2026', 4), (u'RT, PressTV, British, PM, May, says, June, election, result, \\u2018not, certain\\u2019, httpstcoYJvK01WuYX, UKelection', 4), (u'RT, GlennPHeiser, You, Should, Vote, Labour, Because, The, Government, Should, Help, All, of, Us, UKelection, GE17, GE2017, httpstco1sUofvkvCE', 3), (u'RT, MattMackowiak, TomRtweets, makes, clear, what, a, disaster, Corbyn, would, be, as, Prime, Minister, httpstcoMeDMZ1qb2S, UKelection, UKSG17', 3), (u'RT, RaiRadio2, Sorpresa, La, Gran, Bretagna, andr\\xe0, al, voto, anticipato, e, noi, abbiamo, visto, le, schede, in, anteprima, UKelection, brexit\\u2026', 3), (u'RT, ELECTIONUK17, DAILY, POLL, RETWEET, TO, REACH, WIDER, AUDIENCE, GeneralElection, GeneralElection2017, Election2017, election, ge17, poll\\u2026', 3), (u'RT, MelbLawSchool, MLS, Fellow, Tom, Daly, DemocracyTalk, on, the, UKelection, and, the, Brexit, big, picture, httpstcoaz5lgJjsFN', 2), (u'RT, ACPCarnegie, poem, election, fever, Election2017, UKelection, UKElection2017, politics, Elections2017, GeneralElection\\u2026', 2), (u'RT, tingsocial, \\u0e21\\u0e2b\\u0e01\\u0e23\\u0e23\\u0e21\\u0e2b\\u0e32\\u0e40\\u0e2a\\u0e35\\u0e22\\u0e07\\u0e40\\u0e25\\u0e37\\u0e2d\\u0e01\\u0e15\\u0e31\\u0e49\\u0e07\\u0e2a\\u0e2b\\u0e23\\u0e32\\u0e0a\\u0e2d\\u0e32\\u0e13\\u0e32\\u0e08\\u0e31\\u0e01\\u0e23\\u0e40\\u0e23\\u0e34\\u0e48\\u0e21\\u0e41\\u0e25\\u0e49\\u0e27, \\u0e2b\\u0e25\\u0e31\\u0e07\\u0e2a\\u0e20\\u0e32\\u0e40\\u0e2b\\u0e47\\u0e19\\u0e0a\\u0e2d\\u0e1a\\u0e01\\u0e32\\u0e23\\u0e22\\u0e38\\u0e1a\\u0e2a\\u0e20\\u0e32\\u0e40\\u0e21\\u0e37\\u0e48\\u0e2d\\u0e0a\\u0e48\\u0e27\\u0e07\\u0e40\\u0e0a\\u0e49\\u0e32\\u0e15\\u0e32\\u0e21\\u0e40\\u0e27\\u0e25\\u0e32\\u0e17\\u0e49\\u0e2d\\u0e07\\u0e16\\u0e34\\u0e48\\u0e19\\u0e02\\u0e2d\\u0e07\\u0e2d\\u0e31\\u0e07\\u0e01\\u0e24\\u0e29\\u2026', 2), (u'RT, Telegraph, Theresa, May, agrees, to, BBC, Question, Timestyle, question, and, answer, televised, election, debate, httpstcoEgNDgu8Z89', 2), (u'RT, tlsg99, UKElection2017, UKelection, STOP, THIS, HAPPENING, NOW, httpstcoDqAeXMGUoM', 2), (u'RT, PopPoliticsAVT, Canadian, Jeanluc, Picard, Endorses, Jeremy, Corby, for, Prime, Minister, UK, UKElection2017, UKelection, UKLabour, httpstco\\u2026', 2), (u'RT, BigtitsdailyBig, tits, bigtits, bouncingtits, boobs, bigbreasts, UKelection, ChampionsLeague, httpstcovCnPbbZmAa', 2), (u'RT, UKElection17, So, whos, going, to, win, GeneralElection2017, vote, below, and, retweet, GE2017, June8th, UKElection2017, UKelection, ge1\\u2026', 2), (u'RT, ecfr, Brexit, means, Brexit, implications, for, Europe, of, the, UKelection, w, tomnuttall, sd270, markhleonard, Worldin30, httpstcoRZ\\u2026', 2), (u'RT, QueenLetiziaEN, Date, of, State, visit, to, UK, by, King, amp, Queen, of, Spain, has, been, changed, because, of, UKelection, It, will, now, take, place, on, 1\\u2026', 2), (u'RT, KaivanShroff, I, cant, decide, if, Im, more, excited, about, Bill, OReilly, being, fired, or, Jason, Chaffetz, not, running, for, reelection', 2), (u'RT, UKRebelAlliance, Some, Memes, write, themselves, SargonofAkkad, KekHighPriest, Kekenwealth, timgayfish, Ukelection, FreeKekistan\\u2026', 2), (u'RT, ipox77, Corbyn, or, May, on, feeding, children, UKelection, httpstcoJSaQ9zPCb1', 2), (u'RT, StephenQuentin, GE2017, UKelection, Remember, British, Citizens, trapped, abroad, FreeNazanin, FreeGrandpaKamal, FreeAndyTsege, and, o\\u2026', 2), (u'Well, if, this, isnt, foreshadowing, I, dont, know, what, isTheresa, May, is, out, ItvBigheads, ITV, bigheads, TheresaMay, brexit, UKelection', 1), (u'Topht301, I, hope, that, voters, in, UKElection2017, will, also, think, the, same, way, amp, vote, the, ToriesOut\\u2026, httpstco4YZ5AsLA23', 1), (u'shouldbeinNationalPortraitGallery, surelyJeffOvers, httpstcoOSUOAatIfB', 1), (u'Place, names, mentioned, in, recent, tweets, posted, on, UKLabour, UK, ukpoli, UKelection, UKElection2017\\u2026, httpstco72ZSE0RCB0', 1), (u'Honestly, most, Brit, I, know, hope, for, summer, without, politics, but, that, not, what, they, got, now, distressingly, UKelection', 1), (u'Track, trending, assets, in, 1, watchlist, UKelection, fintech, Blockchain, httpstcothFf4MbYVD, httpstco3lhT7caMWc', 1), (u'Indicative, programme, of, the, General, Affairs, Council, Art50, 27, April, EUCouncil, Press, EUCO, Brexit\\u2026, httpstcovG62FsrSaM', 1), (u'See, why, these, assets, are, trending, in, 1, watchlist, UKelection, fintech, frenchelections, Blockchain, EURUSD\\u2026, httpstcoIzqEIb0igF', 1), (u'RT, RGardarsson, Sweet, TheresaMay, CorbynOut, UKelection, Conservatives, httpstcoFHihx8oWja', 1), (u'Indicative, programme, of, the, General, Affairs, Council, Art50, 27, April, EUCouncil, Press, EUCO, Brexit\\u2026, httpstcoVwaevebdY1', 1), (u'Place, names, mentioned, in, recent, tweets, posted, on, LibDems, UK, ukpoli, UKelection, UKElection2017, UKelections2017\\u2026, httpstcoojkL3Q6tmU', 1), (u'Tickers, trending, on, TWTR, in, last, 1, hour, UKelection, fintech, frenchelections, Blockchain, httpstcowgdzpjcEQy, httpstcoRTYBvvoGs4', 1)]\n"
     ]
    }
   ],
   "source": [
    "fdist_tweet_tok = FreqDist(tweet_tok)\n",
    "print(fdist_tweet_tok)\n",
    "frequent_tweet_tok = fdist_tweet_tok.most_common(40)\n",
    "print(frequent_tweet_tok)"
   ]
  },
  {
   "cell_type": "code",
   "execution_count": null,
   "metadata": {
    "collapsed": false
   },
   "outputs": [],
   "source": [
    "#fdist_tweet_tok.plot(5, cumulative=False)"
   ]
  },
  {
   "cell_type": "code",
   "execution_count": null,
   "metadata": {
    "collapsed": false
   },
   "outputs": [],
   "source": [
    "tweetdf.head(1)"
   ]
  },
  {
   "cell_type": "code",
   "execution_count": null,
   "metadata": {
    "collapsed": false
   },
   "outputs": [],
   "source": [
    "file = open('testfile.txt','r+b') \n",
    "for ab in range(len(tweetdf)):\n",
    "        for cd in range(len(tweetdf['tweet_tok'][ab])):\n",
    "            word_token = (tweetdf['tweet_tok'][ab][cd])\n",
    "            file.write('\\n')\n",
    "            file.write(str(word_token).encode('utf-8'))\n",
    "file.close()\n",
    "print(file)\n",
    "                \n",
    "            \n"
   ]
  },
  {
   "cell_type": "code",
   "execution_count": null,
   "metadata": {
    "collapsed": true
   },
   "outputs": [],
   "source": []
  }
 ],
 "metadata": {
  "kernelspec": {
   "display_name": "Python 2",
   "language": "python",
   "name": "python2"
  },
  "language_info": {
   "codemirror_mode": {
    "name": "ipython",
    "version": 2
   },
   "file_extension": ".py",
   "mimetype": "text/x-python",
   "name": "python",
   "nbconvert_exporter": "python",
   "pygments_lexer": "ipython2",
   "version": "2.7.11"
  }
 },
 "nbformat": 4,
 "nbformat_minor": 2
}
